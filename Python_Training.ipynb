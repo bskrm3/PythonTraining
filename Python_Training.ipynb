{
  "nbformat": 4,
  "nbformat_minor": 0,
  "metadata": {
    "colab": {
      "name": "Python_Training",
      "version": "0.3.2",
      "provenance": [],
      "collapsed_sections": []
    },
    "kernelspec": {
      "name": "python3",
      "display_name": "Python 3"
    }
  },
  "cells": [
    {
      "cell_type": "code",
      "metadata": {
        "id": "Hg7siJOm3MAl",
        "colab_type": "code",
        "outputId": "d112ffe9-1549-4939-e60b-14b944ae39d1",
        "colab": {
          "base_uri": "https://localhost:8080/",
          "height": 35
        }
      },
      "source": [
        "print('Hello World')"
      ],
      "execution_count": 0,
      "outputs": [
        {
          "output_type": "stream",
          "text": [
            "Hello World\n"
          ],
          "name": "stdout"
        }
      ]
    },
    {
      "cell_type": "code",
      "metadata": {
        "id": "TzD6F6oV6vxh",
        "colab_type": "code",
        "outputId": "08040d80-9f85-4b19-bbe6-41f8c8baf440",
        "colab": {
          "base_uri": "https://localhost:8080/",
          "height": 69
        }
      },
      "source": [
        "L1 = [2,4,6,8,10]\n",
        "L2 = [1,3,5,7,9]\n",
        "# print(L1)\n",
        "\n",
        "# Add = L1+L2\n",
        "Add = [L1[i]+L2[i] for i in range(len(L2))]\n",
        "\n",
        "print(Add)\n",
        "sumL1=0\n",
        "for element in L1:\n",
        "    sumL1+=element\n",
        "print(sumL1)\n",
        "       \n",
        "Multi= [L1[i] * 2  for i in range(len(L1))]\n",
        "print(Multi)\n",
        "\n",
        "\n",
        "angle = [0,90,180,160,350]\n",
        "\n"
      ],
      "execution_count": 0,
      "outputs": [
        {
          "output_type": "stream",
          "text": [
            "[3, 7, 11, 15, 19]\n",
            "30\n",
            "[4, 8, 12, 16, 20]\n"
          ],
          "name": "stdout"
        }
      ]
    },
    {
      "cell_type": "code",
      "metadata": {
        "id": "gft5yCJ5BDGC",
        "colab_type": "code",
        "outputId": "18be44d9-f422-43aa-a68d-50aa045f3703",
        "colab": {
          "base_uri": "https://localhost:8080/",
          "height": 156
        }
      },
      "source": [
        "angle = list(range(0,390,30)) \n",
        "\n",
        "print(angle)\n",
        "\n",
        "i1 = angle.index(90)\n",
        "print(i1)\n",
        "\n",
        "i2 = angle.index(270)\n",
        "print(i2)\n",
        "\n",
        "len_angle=len(angle)\n",
        "\n",
        "# i1_rev = len_angle - 1 - i1\n",
        "i1_rev=i1-len(angle)\n",
        "print(i1_rev)\n",
        "\n",
        "\n",
        "i2_rev = len_angle - 1 - i2\n",
        "print(i2_rev)\n",
        "\n",
        "subset_angle = angle[i2_rev:i1_rev+1]\n",
        "angle_sub= list(range(90,271,1)) \n",
        "print(subset_angle)\n",
        "subset_angle.reverse()\n",
        "print(subset_angle)\n",
        "\n",
        "subset_angle1=angle[i1_rev:i2_rev-1:-1]\n",
        "print(subset_angle1)"
      ],
      "execution_count": 0,
      "outputs": [
        {
          "output_type": "stream",
          "text": [
            "[0, 30, 60, 90, 120, 150, 180, 210, 240, 270, 300, 330, 360]\n",
            "3\n",
            "9\n",
            "9\n",
            "3\n",
            "[90, 120, 150, 180, 210, 240, 270]\n",
            "[270, 240, 210, 180, 150, 120, 90]\n",
            "[270, 240, 210, 180, 150, 120, 90]\n"
          ],
          "name": "stdout"
        }
      ]
    },
    {
      "cell_type": "code",
      "metadata": {
        "id": "C1wC2rJAeADX",
        "colab_type": "code",
        "outputId": "90a8e2a1-3353-4494-c9d4-071cf4960cce",
        "colab": {
          "base_uri": "https://localhost:8080/",
          "height": 87
        }
      },
      "source": [
        "L1 = [1,2,3,4,5]\n",
        "L2 = L1.copy()\n",
        "print (L2)\n",
        "\n",
        "L2.remove(L2[3])\n",
        "print (L2)\n",
        "print (L1)\n",
        "\n",
        "L3 = L1[:]\n",
        "print (L3)"
      ],
      "execution_count": 0,
      "outputs": [
        {
          "output_type": "stream",
          "text": [
            "[1, 2, 3, 4, 5]\n",
            "[1, 2, 3, 5]\n",
            "[1, 2, 3, 4, 5]\n",
            "[1, 2, 3, 4, 5]\n"
          ],
          "name": "stdout"
        }
      ]
    },
    {
      "cell_type": "code",
      "metadata": {
        "id": "-x7J6eUei5AK",
        "colab_type": "code",
        "outputId": "bab839e1-cfb2-48e5-e635-49e672a07a4c",
        "colab": {
          "base_uri": "https://localhost:8080/",
          "height": 69
        }
      },
      "source": [
        "spam_amount = 0\n",
        "print(spam_amount)\n",
        "\n",
        "# Ordering Spam, egg, Spam, Spam, bacon and Spam (4 more servings of Spam)\n",
        "spam_amount = spam_amount + 4\n",
        "\n",
        "if spam_amount > 0:\n",
        "    print(\"But I don't want ANY spam!\")\n",
        "\n",
        "viking_song = \"Spam \" * spam_amount\n",
        "print(viking_song)"
      ],
      "execution_count": 0,
      "outputs": [
        {
          "output_type": "stream",
          "text": [
            "0\n",
            "But I don't want ANY spam!\n",
            "Spam Spam Spam Spam \n"
          ],
          "name": "stdout"
        }
      ]
    },
    {
      "cell_type": "code",
      "metadata": {
        "id": "-RDSrV5YnbKs",
        "colab_type": "code",
        "colab": {}
      },
      "source": [
        "import numpy as np\n",
        "import tensorflow as tf"
      ],
      "execution_count": 0,
      "outputs": []
    },
    {
      "cell_type": "code",
      "metadata": {
        "id": "rhPUafmwnlcA",
        "colab_type": "code",
        "outputId": "f458790d-eea5-40de-9ad1-d8817d3c467d",
        "colab": {
          "base_uri": "https://localhost:8080/",
          "height": 305
        }
      },
      "source": [
        "# import pytorch"
      ],
      "execution_count": 0,
      "outputs": [
        {
          "output_type": "error",
          "ename": "ModuleNotFoundError",
          "evalue": "ignored",
          "traceback": [
            "\u001b[0;31m---------------------------------------------------------------------------\u001b[0m",
            "\u001b[0;31mModuleNotFoundError\u001b[0m                       Traceback (most recent call last)",
            "\u001b[0;32m<ipython-input-68-d35c46f8d1a2>\u001b[0m in \u001b[0;36m<module>\u001b[0;34m()\u001b[0m\n\u001b[0;32m----> 1\u001b[0;31m \u001b[0;32mimport\u001b[0m \u001b[0mpytorch\u001b[0m\u001b[0;34m\u001b[0m\u001b[0;34m\u001b[0m\u001b[0m\n\u001b[0m",
            "\u001b[0;31mModuleNotFoundError\u001b[0m: No module named 'pytorch'",
            "",
            "\u001b[0;31m---------------------------------------------------------------------------\u001b[0;32m\nNOTE: If your import is failing due to a missing package, you can\nmanually install dependencies using either !pip or !apt.\n\nTo view examples of installing some common dependencies, click the\n\"Open Examples\" button below.\n\u001b[0;31m---------------------------------------------------------------------------\u001b[0m\n"
          ]
        }
      ]
    },
    {
      "cell_type": "code",
      "metadata": {
        "id": "90uPwA9yoeBF",
        "colab_type": "code",
        "outputId": "7e5439ee-5a33-49e8-d408-74ba970be680",
        "colab": {
          "base_uri": "https://localhost:8080/",
          "height": 69
        }
      },
      "source": [
        "tup2 = (1, 2, 3, 4, 5)\n",
        "print(tup2)\n",
        "tup2 = tup2+ (6,)\n",
        "tup2+= (7,)\n",
        "print(tup2)\n",
        "print(type(tup2))\n",
        "# del tup1;\n",
        "# print(tup1)"
      ],
      "execution_count": 0,
      "outputs": [
        {
          "output_type": "stream",
          "text": [
            "(1, 2, 3, 4, 5)\n",
            "(1, 2, 3, 4, 5, 6)\n",
            "<class 'tuple'>\n"
          ],
          "name": "stdout"
        }
      ]
    },
    {
      "cell_type": "code",
      "metadata": {
        "id": "JMNxDDWnz5Cn",
        "colab_type": "code",
        "outputId": "84746c75-6ff0-40c2-9110-dc31f7d6651a",
        "colab": {
          "base_uri": "https://localhost:8080/",
          "height": 35
        }
      },
      "source": [
        "State = {'Andhra Pradesh':[400,'Hyderabad',False], 'Arunachal Pradesh':[130,'Itanagar',True], 'Bihar':[104,'Patna',False]}\n",
        "# print(state)\n",
        "print(State['Bihar'])\n",
        "State['Telangana'] = [300,'Hyderabad',False]"
      ],
      "execution_count": 0,
      "outputs": [
        {
          "output_type": "stream",
          "text": [
            "[104, 'Patna', False]\n"
          ],
          "name": "stdout"
        }
      ]
    },
    {
      "cell_type": "code",
      "metadata": {
        "id": "19mvm79M9vzu",
        "colab_type": "code",
        "outputId": "69b02d67-fb2d-4c99-d7a6-2aac562fab08",
        "colab": {
          "base_uri": "https://localhost:8080/",
          "height": 51
        }
      },
      "source": [
        "\n",
        "def circumference(r):\n",
        "  cir=2*3.14*r\n",
        "  return(cir)\n",
        "\n",
        "\n",
        "# angle = list(range(0,390,30)) \n",
        "\n",
        "def deg_rad(angle):\n",
        "  rad=angle * (22 / 7 / 180)\n",
        "  return(rad)\n",
        "\n",
        "\n",
        "rad_angle = deg_rad(360)\n",
        "print(rad_angle)\n",
        "\n",
        "\n",
        "deg_rad_inline = lambda angle,rotate: angle/360*22/7+rotate\n",
        "\n",
        "deg_rad_inline(360,deg_rad(90))\n",
        "  "
      ],
      "execution_count": 118,
      "outputs": [
        {
          "output_type": "stream",
          "text": [
            "6.285714285714286\n"
          ],
          "name": "stdout"
        },
        {
          "output_type": "execute_result",
          "data": {
            "text/plain": [
              "4.714285714285714"
            ]
          },
          "metadata": {
            "tags": []
          },
          "execution_count": 118
        }
      ]
    },
    {
      "cell_type": "code",
      "metadata": {
        "id": "hjYTDmprNY2E",
        "colab_type": "code",
        "colab": {}
      },
      "source": [
        ""
      ],
      "execution_count": 0,
      "outputs": []
    }
  ]
}