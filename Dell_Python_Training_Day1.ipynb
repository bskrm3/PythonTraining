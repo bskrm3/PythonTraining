{
  "nbformat": 4,
  "nbformat_minor": 0,
  "metadata": {
    "colab": {
      "name": "Dell_Python_Training-Day1.ipynb",
      "version": "0.3.2",
      "provenance": [],
      "collapsed_sections": [],
      "include_colab_link": true
    },
    "kernelspec": {
      "name": "python3",
      "display_name": "Python 3"
    }
  },
  "cells": [
    {
      "cell_type": "markdown",
      "metadata": {
        "id": "view-in-github",
        "colab_type": "text"
      },
      "source": [
        "<a href=\"https://colab.research.google.com/github/bskrm3/PythonTraining/blob/master/Dell_Python_Training_Day1.ipynb\" target=\"_parent\"><img src=\"https://colab.research.google.com/assets/colab-badge.svg\" alt=\"Open In Colab\"/></a>"
      ]
    },
    {
      "cell_type": "code",
      "metadata": {
        "id": "Hg7siJOm3MAl",
        "colab_type": "code",
        "outputId": "d112ffe9-1549-4939-e60b-14b944ae39d1",
        "colab": {
          "base_uri": "https://localhost:8080/",
          "height": 35
        }
      },
      "source": [
        "print('Hello World')"
      ],
      "execution_count": 0,
      "outputs": [
        {
          "output_type": "stream",
          "text": [
            "Hello World\n"
          ],
          "name": "stdout"
        }
      ]
    },
    {
      "cell_type": "code",
      "metadata": {
        "id": "TzD6F6oV6vxh",
        "colab_type": "code",
        "outputId": "08040d80-9f85-4b19-bbe6-41f8c8baf440",
        "colab": {
          "base_uri": "https://localhost:8080/",
          "height": 69
        }
      },
      "source": [
        "L1 = [2,4,6,8,10]\n",
        "L2 = [1,3,5,7,9]\n",
        "# print(L1)\n",
        "\n",
        "# Add = L1+L2\n",
        "Add = [L1[i]+L2[i] for i in range(len(L2))]\n",
        "\n",
        "print(Add)\n",
        "sumL1=0\n",
        "for element in L1:\n",
        "    sumL1+=element\n",
        "print(sumL1)\n",
        "       \n",
        "Multi= [L1[i] * 2  for i in range(len(L1))]\n",
        "print(Multi)\n",
        "\n",
        "\n",
        "angle = [0,90,180,160,350]\n",
        "\n"
      ],
      "execution_count": 0,
      "outputs": [
        {
          "output_type": "stream",
          "text": [
            "[3, 7, 11, 15, 19]\n",
            "30\n",
            "[4, 8, 12, 16, 20]\n"
          ],
          "name": "stdout"
        }
      ]
    },
    {
      "cell_type": "code",
      "metadata": {
        "id": "gft5yCJ5BDGC",
        "colab_type": "code",
        "outputId": "18be44d9-f422-43aa-a68d-50aa045f3703",
        "colab": {
          "base_uri": "https://localhost:8080/",
          "height": 156
        }
      },
      "source": [
        "angle = list(range(0,390,30)) \n",
        "\n",
        "print(angle)\n",
        "\n",
        "i1 = angle.index(90)\n",
        "print(i1)\n",
        "\n",
        "i2 = angle.index(270)\n",
        "print(i2)\n",
        "\n",
        "len_angle=len(angle)\n",
        "\n",
        "# i1_rev = len_angle - 1 - i1\n",
        "i1_rev=i1-len(angle)\n",
        "print(i1_rev)\n",
        "\n",
        "\n",
        "i2_rev = len_angle - 1 - i2\n",
        "print(i2_rev)\n",
        "\n",
        "subset_angle = angle[i2_rev:i1_rev+1]\n",
        "angle_sub= list(range(90,271,1)) \n",
        "print(subset_angle)\n",
        "subset_angle.reverse()\n",
        "print(subset_angle)\n",
        "\n",
        "subset_angle1=angle[i1_rev:i2_rev-1:-1]\n",
        "print(subset_angle1)"
      ],
      "execution_count": 0,
      "outputs": [
        {
          "output_type": "stream",
          "text": [
            "[0, 30, 60, 90, 120, 150, 180, 210, 240, 270, 300, 330, 360]\n",
            "3\n",
            "9\n",
            "9\n",
            "3\n",
            "[90, 120, 150, 180, 210, 240, 270]\n",
            "[270, 240, 210, 180, 150, 120, 90]\n",
            "[270, 240, 210, 180, 150, 120, 90]\n"
          ],
          "name": "stdout"
        }
      ]
    },
    {
      "cell_type": "code",
      "metadata": {
        "id": "C1wC2rJAeADX",
        "colab_type": "code",
        "outputId": "90a8e2a1-3353-4494-c9d4-071cf4960cce",
        "colab": {
          "base_uri": "https://localhost:8080/",
          "height": 87
        }
      },
      "source": [
        "L1 = [1,2,3,4,5]\n",
        "L2 = L1.copy()\n",
        "print (L2)\n",
        "\n",
        "L2.remove(L2[3])\n",
        "print (L2)\n",
        "print (L1)\n",
        "\n",
        "L3 = L1[:]\n",
        "print (L3)"
      ],
      "execution_count": 0,
      "outputs": [
        {
          "output_type": "stream",
          "text": [
            "[1, 2, 3, 4, 5]\n",
            "[1, 2, 3, 5]\n",
            "[1, 2, 3, 4, 5]\n",
            "[1, 2, 3, 4, 5]\n"
          ],
          "name": "stdout"
        }
      ]
    },
    {
      "cell_type": "code",
      "metadata": {
        "id": "-x7J6eUei5AK",
        "colab_type": "code",
        "outputId": "bab839e1-cfb2-48e5-e635-49e672a07a4c",
        "colab": {
          "base_uri": "https://localhost:8080/",
          "height": 69
        }
      },
      "source": [
        "spam_amount = 0\n",
        "print(spam_amount)\n",
        "\n",
        "# Ordering Spam, egg, Spam, Spam, bacon and Spam (4 more servings of Spam)\n",
        "spam_amount = spam_amount + 4\n",
        "\n",
        "if spam_amount > 0:\n",
        "    print(\"But I don't want ANY spam!\")\n",
        "\n",
        "viking_song = \"Spam \" * spam_amount\n",
        "print(viking_song)"
      ],
      "execution_count": 0,
      "outputs": [
        {
          "output_type": "stream",
          "text": [
            "0\n",
            "But I don't want ANY spam!\n",
            "Spam Spam Spam Spam \n"
          ],
          "name": "stdout"
        }
      ]
    },
    {
      "cell_type": "code",
      "metadata": {
        "id": "-RDSrV5YnbKs",
        "colab_type": "code",
        "colab": {}
      },
      "source": [
        "import numpy as np\n",
        "import tensorflow as tf"
      ],
      "execution_count": 0,
      "outputs": []
    },
    {
      "cell_type": "code",
      "metadata": {
        "id": "rhPUafmwnlcA",
        "colab_type": "code",
        "outputId": "f458790d-eea5-40de-9ad1-d8817d3c467d",
        "colab": {
          "base_uri": "https://localhost:8080/",
          "height": 305
        }
      },
      "source": [
        "# import pytorch"
      ],
      "execution_count": 0,
      "outputs": [
        {
          "output_type": "error",
          "ename": "ModuleNotFoundError",
          "evalue": "ignored",
          "traceback": [
            "\u001b[0;31m---------------------------------------------------------------------------\u001b[0m",
            "\u001b[0;31mModuleNotFoundError\u001b[0m                       Traceback (most recent call last)",
            "\u001b[0;32m<ipython-input-68-d35c46f8d1a2>\u001b[0m in \u001b[0;36m<module>\u001b[0;34m()\u001b[0m\n\u001b[0;32m----> 1\u001b[0;31m \u001b[0;32mimport\u001b[0m \u001b[0mpytorch\u001b[0m\u001b[0;34m\u001b[0m\u001b[0;34m\u001b[0m\u001b[0m\n\u001b[0m",
            "\u001b[0;31mModuleNotFoundError\u001b[0m: No module named 'pytorch'",
            "",
            "\u001b[0;31m---------------------------------------------------------------------------\u001b[0;32m\nNOTE: If your import is failing due to a missing package, you can\nmanually install dependencies using either !pip or !apt.\n\nTo view examples of installing some common dependencies, click the\n\"Open Examples\" button below.\n\u001b[0;31m---------------------------------------------------------------------------\u001b[0m\n"
          ]
        }
      ]
    },
    {
      "cell_type": "code",
      "metadata": {
        "id": "JMNxDDWnz5Cn",
        "colab_type": "code",
        "outputId": "84746c75-6ff0-40c2-9110-dc31f7d6651a",
        "colab": {
          "base_uri": "https://localhost:8080/",
          "height": 35
        }
      },
      "source": [
        "State = {'Andhra Pradesh':[400,'Hyderabad',False], 'Arunachal Pradesh':[130,'Itanagar',True], 'Bihar':[104,'Patna',False]}\n",
        "# print(state)\n",
        "print(State['Bihar'])\n",
        "State['Telangana'] = [300,'Hyderabad',False]"
      ],
      "execution_count": 0,
      "outputs": [
        {
          "output_type": "stream",
          "text": [
            "[104, 'Patna', False]\n"
          ],
          "name": "stdout"
        }
      ]
    },
    {
      "cell_type": "code",
      "metadata": {
        "id": "90uPwA9yoeBF",
        "colab_type": "code",
        "outputId": "7e5439ee-5a33-49e8-d408-74ba970be680",
        "colab": {
          "base_uri": "https://localhost:8080/",
          "height": 69
        }
      },
      "source": [
        "tup2 = (1, 2, 3, 4, 5)\n",
        "print(tup2)\n",
        "tup2 = tup2+ (6,)\n",
        "tup2+= (7,)\n",
        "print(tup2)\n",
        "print(type(tup2))\n",
        "# del tup1;\n",
        "# print(tup1)"
      ],
      "execution_count": 0,
      "outputs": [
        {
          "output_type": "stream",
          "text": [
            "(1, 2, 3, 4, 5)\n",
            "(1, 2, 3, 4, 5, 6)\n",
            "<class 'tuple'>\n"
          ],
          "name": "stdout"
        }
      ]
    },
    {
      "cell_type": "code",
      "metadata": {
        "id": "19mvm79M9vzu",
        "colab_type": "code",
        "outputId": "7077d660-c0f0-4cce-a550-9808defe34c4",
        "colab": {
          "base_uri": "https://localhost:8080/",
          "height": 52
        }
      },
      "source": [
        "\n",
        "def circumference(r):\n",
        "  cir=2*3.14*r\n",
        "  return(cir)\n",
        "\n",
        "\n",
        "# angle = list(range(0,390,30)) \n",
        "\n",
        "def deg_rad(angle):\n",
        "  rad=angle * (22 / 7 / 180)\n",
        "  return(rad)\n",
        "\n",
        "\n",
        "rad_angle = deg_rad(360)\n",
        "print(rad_angle)\n",
        "\n",
        "\n",
        "deg_rad_inline = lambda angle,rotate: angle/360*22/7+rotate\n",
        "\n",
        "deg_rad_inline(360,deg_rad(90))\n",
        "  "
      ],
      "execution_count": 0,
      "outputs": [
        {
          "output_type": "stream",
          "text": [
            "6.285714285714286\n"
          ],
          "name": "stdout"
        },
        {
          "output_type": "execute_result",
          "data": {
            "text/plain": [
              "4.714285714285714"
            ]
          },
          "metadata": {
            "tags": []
          },
          "execution_count": 119
        }
      ]
    },
    {
      "cell_type": "code",
      "metadata": {
        "id": "Kq7BYWQShGaZ",
        "colab_type": "code",
        "outputId": "ae835e58-1fb1-483f-ccbd-63f1d8f161ef",
        "colab": {
          "base_uri": "https://localhost:8080/",
          "height": 122
        }
      },
      "source": [
        "rad_angles=[]\n",
        "q2_angles =[]\n",
        "\n",
        "for a in [30,60,90,120,150,180]:\n",
        "  rad_angles = a * ((22/7)/180)\n",
        "  print(rad_angles) \n",
        "  if (a=90) & (a<270):\n",
        "  print(rad_angles)\n",
        "  "
      ],
      "execution_count": 0,
      "outputs": [
        {
          "output_type": "stream",
          "text": [
            "0.5238095238095238\n",
            "1.0476190476190477\n",
            "1.5714285714285714\n",
            "2.0952380952380953\n",
            "2.619047619047619\n",
            "3.142857142857143\n"
          ],
          "name": "stdout"
        }
      ]
    },
    {
      "cell_type": "code",
      "metadata": {
        "id": "Ys6QuOTip4TX",
        "colab_type": "code",
        "outputId": "9618d732-0b47-423a-8e7f-4612d7f3c4d3",
        "colab": {
          "base_uri": "https://localhost:8080/",
          "height": 298
        }
      },
      "source": [
        "import numpy as np\n",
        "a=np.array([1,2,3])\n",
        "b=np.array([[1,2,3],[4,7,9]],dtype=float)\n",
        "z=np.zeros((3,4))\n",
        "e=np.eye(3)\n",
        "\n",
        "print(a)\n",
        "print(b)\n",
        "print(z)\n",
        "print(e)\n",
        "\n",
        "print(b.shape)\n",
        "print(len(a))\n",
        "print(len(b))\n",
        "print(b.ndim)\n",
        "print(b.size)\n",
        "print(b.dtype)\n",
        "b=b.astype(int)\n",
        "b.dtype"
      ],
      "execution_count": 0,
      "outputs": [
        {
          "output_type": "stream",
          "text": [
            "[1 2 3]\n",
            "[[1. 2. 3.]\n",
            " [4. 7. 9.]]\n",
            "[[0. 0. 0. 0.]\n",
            " [0. 0. 0. 0.]\n",
            " [0. 0. 0. 0.]]\n",
            "[[1. 0. 0.]\n",
            " [0. 1. 0.]\n",
            " [0. 0. 1.]]\n",
            "(2, 3)\n",
            "3\n",
            "2\n",
            "2\n",
            "6\n",
            "float64\n"
          ],
          "name": "stdout"
        },
        {
          "output_type": "execute_result",
          "data": {
            "text/plain": [
              "dtype('int64')"
            ]
          },
          "metadata": {
            "tags": []
          },
          "execution_count": 7
        }
      ]
    },
    {
      "cell_type": "code",
      "metadata": {
        "id": "SzhevnYRsoQC",
        "colab_type": "code",
        "outputId": "7087f902-b5fb-4fcf-acf9-287153923b86",
        "colab": {
          "base_uri": "https://localhost:8080/",
          "height": 825
        }
      },
      "source": [
        "from sklearn import datasets\n",
        "iris = datasets.load_iris()\n",
        "x=iris.data\n",
        "\n",
        "\n",
        "\n",
        "print(x.shape)\n",
        "# x=x.iloc[100:140, 2:4]\n",
        "print(x[100:140, 2:4])\n",
        "Xsub=x[100:140,2:4]\n",
        "print(Xsub)\n",
        "\n",
        "\n",
        "\n",
        "print(len(x))\n",
        "print(x.ndim)\n",
        "print(x.size)\n",
        "print(x.dtype)\n",
        "x=x.astype(int)\n",
        "x.dtype"
      ],
      "execution_count": 0,
      "outputs": [
        {
          "output_type": "stream",
          "text": [
            "(150, 4)\n",
            "[[6.  2.5]\n",
            " [5.1 1.9]\n",
            " [5.9 2.1]\n",
            " [5.6 1.8]\n",
            " [5.8 2.2]\n",
            " [6.6 2.1]\n",
            " [4.5 1.7]\n",
            " [6.3 1.8]\n",
            " [5.8 1.8]\n",
            " [6.1 2.5]\n",
            " [5.1 2. ]\n",
            " [5.3 1.9]\n",
            " [5.5 2.1]\n",
            " [5.  2. ]\n",
            " [5.1 2.4]\n",
            " [5.3 2.3]\n",
            " [5.5 1.8]\n",
            " [6.7 2.2]\n",
            " [6.9 2.3]\n",
            " [5.  1.5]\n",
            " [5.7 2.3]\n",
            " [4.9 2. ]\n",
            " [6.7 2. ]\n",
            " [4.9 1.8]\n",
            " [5.7 2.1]\n",
            " [6.  1.8]\n",
            " [4.8 1.8]\n",
            " [4.9 1.8]\n",
            " [5.6 2.1]\n",
            " [5.8 1.6]\n",
            " [6.1 1.9]\n",
            " [6.4 2. ]\n",
            " [5.6 2.2]\n",
            " [5.1 1.5]\n",
            " [5.6 1.4]\n",
            " [6.1 2.3]\n",
            " [5.6 2.4]\n",
            " [5.5 1.8]\n",
            " [4.8 1.8]\n",
            " [5.4 2.1]]\n",
            "150\n",
            "2\n",
            "600\n",
            "float64\n"
          ],
          "name": "stdout"
        },
        {
          "output_type": "execute_result",
          "data": {
            "text/plain": [
              "dtype('int64')"
            ]
          },
          "metadata": {
            "tags": []
          },
          "execution_count": 14
        }
      ]
    },
    {
      "cell_type": "code",
      "metadata": {
        "id": "i1-xJYlu5VTy",
        "colab_type": "code",
        "outputId": "fa8bbd12-2aa3-47ac-c009-46dbbc5c12d1",
        "colab": {
          "resources": {
            "http://localhost:8080/nbextensions/google.colab/files.js": {
              "data": "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",
              "ok": true,
              "headers": [
                [
                  "content-type",
                  "application/javascript"
                ]
              ],
              "status": 200,
              "status_text": ""
            }
          },
          "base_uri": "https://localhost:8080/",
          "height": 75
        }
      },
      "source": [
        "from google.colab import files\n",
        "uploaded = files.upload()\n"
      ],
      "execution_count": 0,
      "outputs": [
        {
          "output_type": "display_data",
          "data": {
            "text/html": [
              "\n",
              "     <input type=\"file\" id=\"files-4976c819-3e40-48d0-baa0-efcf35899338\" name=\"files[]\" multiple disabled />\n",
              "     <output id=\"result-4976c819-3e40-48d0-baa0-efcf35899338\">\n",
              "      Upload widget is only available when the cell has been executed in the\n",
              "      current browser session. Please rerun this cell to enable.\n",
              "      </output>\n",
              "      <script src=\"/nbextensions/google.colab/files.js\"></script> "
            ],
            "text/plain": [
              "<IPython.core.display.HTML object>"
            ]
          },
          "metadata": {
            "tags": []
          }
        },
        {
          "output_type": "stream",
          "text": [
            "Saving matches.csv to matches.csv\n"
          ],
          "name": "stdout"
        }
      ]
    },
    {
      "cell_type": "code",
      "metadata": {
        "id": "Nm7ALUmE21I1",
        "colab_type": "code",
        "outputId": "82fb7b5c-b6b6-4a45-ff83-5588c2c4f414",
        "colab": {
          "base_uri": "https://localhost:8080/",
          "height": 468
        }
      },
      "source": [
        "#read matches.csv from data folder\n",
        "#print ts shape, columns and first 10 index (df.index) \n",
        "#print head of df\n",
        "import pandas as pd\n",
        "\n",
        "df = pd.read_csv('matches.csv')\n",
        "\n",
        "print(df.shape)\n",
        "print(df.columns)\n",
        "print(list(df.index)[:10])\n",
        "df.head()\n",
        "\n",
        "df[df['city']=='Bangalore']['winner']\n",
        "df[df['season'].isin([2008,2015])][['season','toss_winner']]\n",
        "df['winner'].value_counts()\n",
        "df['winner'].isnull().sum()\n",
        "\n",
        "df.reset_index(inplace=True)\n",
        "df.set_index('date',inplace=True)\n",
        "df.iloc[0:10]\n",
        "df.loc['2008-04-26']\n",
        "\n",
        "df['winner'].fillna('bfill',inplace=True)\n",
        "df.isnull().sum()"
      ],
      "execution_count": 0,
      "outputs": [
        {
          "output_type": "stream",
          "text": [
            "(577, 18)\n",
            "Index(['id', 'season', 'city', 'date', 'team1', 'team2', 'toss_winner',\n",
            "       'toss_decision', 'result', 'dl_applied', 'winner', 'win_by_runs',\n",
            "       'win_by_wickets', 'player_of_match', 'venue', 'umpire1', 'umpire2',\n",
            "       'umpire3'],\n",
            "      dtype='object')\n",
            "[0, 1, 2, 3, 4, 5, 6, 7, 8, 9]\n"
          ],
          "name": "stdout"
        },
        {
          "output_type": "execute_result",
          "data": {
            "text/plain": [
              "index                0\n",
              "id                   0\n",
              "season               0\n",
              "city                 7\n",
              "team1                0\n",
              "team2                0\n",
              "toss_winner          0\n",
              "toss_decision        0\n",
              "result               0\n",
              "dl_applied           0\n",
              "winner               0\n",
              "win_by_runs          0\n",
              "win_by_wickets       0\n",
              "player_of_match      3\n",
              "venue                0\n",
              "umpire1              0\n",
              "umpire2              0\n",
              "umpire3            577\n",
              "dtype: int64"
            ]
          },
          "metadata": {
            "tags": []
          },
          "execution_count": 35
        }
      ]
    },
    {
      "cell_type": "code",
      "metadata": {
        "id": "tWhBQBD27oom",
        "colab_type": "code",
        "colab": {}
      },
      "source": [
        ""
      ],
      "execution_count": 0,
      "outputs": []
    },
    {
      "cell_type": "code",
      "metadata": {
        "id": "AjVJ1HK75Rdp",
        "colab_type": "code",
        "outputId": "9328f5e7-1ba2-4edb-fb17-ccc2e1741744",
        "colab": {
          "base_uri": "https://localhost:8080/",
          "height": 486
        }
      },
      "source": [
        "df1=pd.DataFrame({'metal':['steel','copper','wood'],'YM':[200,100,50],'Ductile':[True,True,False]})\n",
        "df1\n",
        "# df1.append({'metal':'cement', 'YM':'10','Ductile':False}, ignore_index=True)\n",
        "df1.loc['3']='cement',10,False \n",
        "# df.ix['4']=['s',10,False]\n",
        "df1\n",
        "df1.drop(index=1)\n",
        "df1.drop(index=0,axis=0)\n",
        "\n",
        "\n",
        "df2=pd.DataFrame({'metal':['steel','copper','wood'],'UTS (Mpa)':[400,300,40], 'YM':[200,100,50]}, index=['me1','me2','me3'])\n",
        "df2\n",
        "\n",
        "#concat\n",
        "pd.concat([df1,df2])\n",
        "\n",
        "#merge\n",
        "print(df1)\n",
        "print(df2)\n",
        "pd.merge(df1,df2,on='metal',how='outer')"
      ],
      "execution_count": 0,
      "outputs": [
        {
          "output_type": "stream",
          "text": [
            "    metal   YM  Ductile\n",
            "0   steel  200     True\n",
            "1  copper  100     True\n",
            "2    wood   50    False\n",
            "3  cement   10    False\n",
            "      metal  UTS (Mpa)   YM\n",
            "me1   steel        400  200\n",
            "me2  copper        300  100\n",
            "me3    wood         40    5\n"
          ],
          "name": "stdout"
        },
        {
          "output_type": "stream",
          "text": [
            "/usr/local/lib/python3.6/dist-packages/ipykernel_launcher.py:15: FutureWarning: Sorting because non-concatenation axis is not aligned. A future version\n",
            "of pandas will change to not sort by default.\n",
            "\n",
            "To accept the future behavior, pass 'sort=False'.\n",
            "\n",
            "To retain the current behavior and silence the warning, pass 'sort=True'.\n",
            "\n",
            "  from ipykernel import kernelapp as app\n"
          ],
          "name": "stderr"
        },
        {
          "output_type": "execute_result",
          "data": {
            "text/html": [
              "<div>\n",
              "<style scoped>\n",
              "    .dataframe tbody tr th:only-of-type {\n",
              "        vertical-align: middle;\n",
              "    }\n",
              "\n",
              "    .dataframe tbody tr th {\n",
              "        vertical-align: top;\n",
              "    }\n",
              "\n",
              "    .dataframe thead th {\n",
              "        text-align: right;\n",
              "    }\n",
              "</style>\n",
              "<table border=\"1\" class=\"dataframe\">\n",
              "  <thead>\n",
              "    <tr style=\"text-align: right;\">\n",
              "      <th></th>\n",
              "      <th>metal</th>\n",
              "      <th>YM_x</th>\n",
              "      <th>Ductile</th>\n",
              "      <th>UTS (Mpa)</th>\n",
              "      <th>YM_y</th>\n",
              "    </tr>\n",
              "  </thead>\n",
              "  <tbody>\n",
              "    <tr>\n",
              "      <th>0</th>\n",
              "      <td>steel</td>\n",
              "      <td>200</td>\n",
              "      <td>True</td>\n",
              "      <td>400.0</td>\n",
              "      <td>200.0</td>\n",
              "    </tr>\n",
              "    <tr>\n",
              "      <th>1</th>\n",
              "      <td>copper</td>\n",
              "      <td>100</td>\n",
              "      <td>True</td>\n",
              "      <td>300.0</td>\n",
              "      <td>100.0</td>\n",
              "    </tr>\n",
              "    <tr>\n",
              "      <th>2</th>\n",
              "      <td>wood</td>\n",
              "      <td>50</td>\n",
              "      <td>False</td>\n",
              "      <td>40.0</td>\n",
              "      <td>5.0</td>\n",
              "    </tr>\n",
              "    <tr>\n",
              "      <th>3</th>\n",
              "      <td>cement</td>\n",
              "      <td>10</td>\n",
              "      <td>False</td>\n",
              "      <td>NaN</td>\n",
              "      <td>NaN</td>\n",
              "    </tr>\n",
              "  </tbody>\n",
              "</table>\n",
              "</div>"
            ],
            "text/plain": [
              "    metal  YM_x  Ductile  UTS (Mpa)   YM_y\n",
              "0   steel   200     True      400.0  200.0\n",
              "1  copper   100     True      300.0  100.0\n",
              "2    wood    50    False       40.0    5.0\n",
              "3  cement    10    False        NaN    NaN"
            ]
          },
          "metadata": {
            "tags": []
          },
          "execution_count": 63
        }
      ]
    },
    {
      "cell_type": "code",
      "metadata": {
        "id": "hjYTDmprNY2E",
        "colab_type": "code",
        "outputId": "324a2483-b5ca-4780-e23f-42cdd31fb738",
        "colab": {
          "resources": {
            "http://localhost:8080/nbextensions/google.colab/files.js": {
              "data": "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",
              "ok": true,
              "headers": [
                [
                  "content-type",
                  "application/javascript"
                ]
              ],
              "status": 200,
              "status_text": ""
            }
          },
          "base_uri": "https://localhost:8080/",
          "height": 110
        }
      },
      "source": [
        "from google.colab import files\n",
        "uploaded = files.upload()\n",
        "\n",
        "\n"
      ],
      "execution_count": 0,
      "outputs": [
        {
          "output_type": "display_data",
          "data": {
            "text/html": [
              "\n",
              "     <input type=\"file\" id=\"files-e4ca5454-0f6e-4213-b181-1350b3a29626\" name=\"files[]\" multiple disabled />\n",
              "     <output id=\"result-e4ca5454-0f6e-4213-b181-1350b3a29626\">\n",
              "      Upload widget is only available when the cell has been executed in the\n",
              "      current browser session. Please rerun this cell to enable.\n",
              "      </output>\n",
              "      <script src=\"/nbextensions/google.colab/files.js\"></script> "
            ],
            "text/plain": [
              "<IPython.core.display.HTML object>"
            ]
          },
          "metadata": {
            "tags": []
          }
        },
        {
          "output_type": "stream",
          "text": [
            "Saving road_accidents.csv to road_accidents (1).csv\n",
            "Saving roads.csv to roads (1).csv\n"
          ],
          "name": "stdout"
        }
      ]
    },
    {
      "cell_type": "code",
      "metadata": {
        "id": "AYIPlQCroQ-9",
        "colab_type": "code",
        "outputId": "2fcf3d6c-8d11-4e63-c840-c1add6c373b0",
        "colab": {
          "base_uri": "https://localhost:8080/",
          "height": 485
        }
      },
      "source": [
        "roads = pd.read_csv('roads.csv')\n",
        "accidents=pd.read_csv('road_accidents.csv')\n",
        "\n",
        "print(roads.shape)\n",
        "print(accidents.shape)\n",
        "\n",
        "print(roads.head())\n",
        "print(accidents.head())\n",
        "roads.drop(['Category','Total'],axis=1)\n",
        "pd.merge(roads,accidents,on='States/UTs',how='outer')\n",
        "accidents=accidents[['States/UTs','2012','2013','2014']]\n",
        "print(accidents.head())"
      ],
      "execution_count": 0,
      "outputs": [
        {
          "output_type": "stream",
          "text": [
            "(31, 4)\n",
            "(37, 11)\n",
            "  Category         States/UTs     Total  Surfaced\n",
            "0   States     Andhra Pradesh  168516.0     93573\n",
            "1   States  Arunachal Pradesh    5262.0      5262\n",
            "2   States              Assam  222087.0     27622\n",
            "3   States              Bihar  167579.0     94421\n",
            "4   States       Chhattisgarh   30295.0     30295\n",
            "          States/UTs     2006     2007     2008     2009     2010     2011  \\\n",
            "0     Andhra Pradesh  17468.0  18859.0  15320.0  17465.0  17996.0  19081.0   \n",
            "1  Arunachal Pradesh    177.0    110.0    212.0    138.0    165.0    140.0   \n",
            "2              Assam   2575.0   2579.0   2776.0   2938.0   3741.0   3951.0   \n",
            "3              Bihar   2048.0   2677.0   3661.0   3968.0   3908.0   4746.0   \n",
            "4       Chhattisgarh   5883.0   5492.0   5849.0   5616.0   6341.0   6402.0   \n",
            "\n",
            "      2012     2013  2014  2015  \n",
            "0  14578.0  17355.0  7815  7263  \n",
            "1    147.0    242.0   149   184  \n",
            "2   4174.0   4112.0  4186  4121  \n",
            "3   5124.0   4470.0  4580  4250  \n",
            "4   6183.0   5824.0  6049  6072  \n",
            "          States/UTs     2012     2013  2014\n",
            "0     Andhra Pradesh  14578.0  17355.0  7815\n",
            "1  Arunachal Pradesh    147.0    242.0   149\n",
            "2              Assam   4174.0   4112.0  4186\n",
            "3              Bihar   5124.0   4470.0  4580\n",
            "4       Chhattisgarh   6183.0   5824.0  6049\n"
          ],
          "name": "stdout"
        }
      ]
    },
    {
      "cell_type": "code",
      "metadata": {
        "id": "4GqL-AH3xghm",
        "colab_type": "code",
        "outputId": "c1b22b95-4671-4398-ffab-2b7ece4262da",
        "colab": {
          "base_uri": "https://localhost:8080/",
          "height": 520
        }
      },
      "source": [
        "import pandas as pd\n",
        "import numpy as np\n",
        "import matplotlib.pyplot as plt\n",
        "import seaborn as sns\n",
        "import statsmodels.api as sm\n",
        "\n",
        "cars = sm.datasets.get_rdataset('mtcars').data\n",
        "print(cars.head(4).T)\n",
        "print(cars.info())\n",
        "\n",
        "# correlation = -cov(x,y)/sd(x)sd(y)"
      ],
      "execution_count": 0,
      "outputs": [
        {
          "output_type": "stream",
          "text": [
            "      Mazda RX4  Mazda RX4 Wag  Datsun 710  Hornet 4 Drive\n",
            "mpg       21.00         21.000       22.80          21.400\n",
            "cyl        6.00          6.000        4.00           6.000\n",
            "disp     160.00        160.000      108.00         258.000\n",
            "hp       110.00        110.000       93.00         110.000\n",
            "drat       3.90          3.900        3.85           3.080\n",
            "wt         2.62          2.875        2.32           3.215\n",
            "qsec      16.46         17.020       18.61          19.440\n",
            "vs         0.00          0.000        1.00           1.000\n",
            "am         1.00          1.000        1.00           0.000\n",
            "gear       4.00          4.000        4.00           3.000\n",
            "carb       4.00          4.000        1.00           1.000\n",
            "<class 'pandas.core.frame.DataFrame'>\n",
            "Index: 32 entries, Mazda RX4 to Volvo 142E\n",
            "Data columns (total 11 columns):\n",
            "mpg     32 non-null float64\n",
            "cyl     32 non-null int64\n",
            "disp    32 non-null float64\n",
            "hp      32 non-null int64\n",
            "drat    32 non-null float64\n",
            "wt      32 non-null float64\n",
            "qsec    32 non-null float64\n",
            "vs      32 non-null int64\n",
            "am      32 non-null int64\n",
            "gear    32 non-null int64\n",
            "carb    32 non-null int64\n",
            "dtypes: float64(5), int64(6)\n",
            "memory usage: 3.0+ KB\n",
            "None\n"
          ],
          "name": "stdout"
        }
      ]
    },
    {
      "cell_type": "code",
      "metadata": {
        "id": "sd8x5yp32E12",
        "colab_type": "code",
        "outputId": "5ad8c3a1-a939-4f88-db95-6b4b4b21ebb1",
        "colab": {
          "base_uri": "https://localhost:8080/",
          "height": 326
        }
      },
      "source": [
        "import pandas as pd\n",
        "import numpy as np\n",
        "import matplotlib.pyplot as plt\n",
        "import seaborn as sns\n",
        "import statsmodels.api as sm\n",
        "\n",
        "# sns.regplot(x=cars.mpg, y=cars.wt, ci=95)\n",
        "# corcoef = np.corrcoef(cars.mpq, cars.wt)[0,1]\n",
        "# text_cc = 'n\\n\\n\\ncorrelation coefficient is %1.4f'%corcoef\n",
        "# plt.title('Scatter plot MPG Vs Weight')\n",
        "# plt.suptitle(test_cc)\n",
        "# plt.gcf().tight_layout()\n",
        "# # plt.text(15,6,5,text_cc)\n",
        "\n",
        "# plt.show()\n",
        "\n",
        "sns.regplot(x=cars.mpg, y=cars.wt, ci=95)\n",
        "\n",
        "corcoef = np.corrcoef(cars.mpg, cars.wt)[0,1]\n",
        "\n",
        "text_cc = '\\n\\n\\n\\nCorrelation coefficient is %1.4f'%corcoef\n",
        "plt.title('Scatter plot MPG Vs Weight')\n",
        "plt.suptitle(text_cc)\n",
        "\n",
        "\n",
        "\n",
        "\n"
      ],
      "execution_count": 0,
      "outputs": [
        {
          "output_type": "execute_result",
          "data": {
            "text/plain": [
              "Text(0.5, 0.98, '\\n\\n\\n\\nCorrelation coefficient is -0.8677')"
            ]
          },
          "metadata": {
            "tags": []
          },
          "execution_count": 5
        },
        {
          "output_type": "display_data",
          "data": {
            "image/png": "[encoded data removed]",
            "text/plain": [
              "<Figure size 432x288 with 1 Axes>"
            ]
          },
          "metadata": {
            "tags": []
          }
        }
      ]
    },
    {
      "cell_type": "code",
      "metadata": {
        "id": "8gl00thJARNA",
        "colab_type": "code",
        "outputId": "bee66ed2-a23d-4e18-9857-34599f0615dc",
        "colab": {
          "base_uri": "https://localhost:8080/",
          "height": 495
        }
      },
      "source": [
        "X = cars.wt\n",
        "y = cars.mpg\n",
        "\n",
        "X = sm.add_constant(X)\n",
        "\n",
        "model = sm.OLS(y,X).fit()\n",
        "prediction  = model.predict(X)\n",
        "\n",
        "model.summary()"
      ],
      "execution_count": 0,
      "outputs": [
        {
          "output_type": "stream",
          "text": [
            "/usr/local/lib/python3.6/dist-packages/numpy/core/fromnumeric.py:2389: FutureWarning: Method .ptp is deprecated and will be removed in a future version. Use numpy.ptp instead.\n",
            "  return ptp(axis=axis, out=out, **kwargs)\n"
          ],
          "name": "stderr"
        },
        {
          "output_type": "execute_result",
          "data": {
            "text/html": [
              "<table class=\"simpletable\">\n",
              "<caption>OLS Regression Results</caption>\n",
              "<tr>\n",
              "  <th>Dep. Variable:</th>           <td>mpg</td>       <th>  R-squared:         </th> <td>   0.753</td>\n",
              "</tr>\n",
              "<tr>\n",
              "  <th>Model:</th>                   <td>OLS</td>       <th>  Adj. R-squared:    </th> <td>   0.745</td>\n",
              "</tr>\n",
              "<tr>\n",
              "  <th>Method:</th>             <td>Least Squares</td>  <th>  F-statistic:       </th> <td>   91.38</td>\n",
              "</tr>\n",
              "<tr>\n",
              "  <th>Date:</th>             <td>Tue, 07 May 2019</td> <th>  Prob (F-statistic):</th> <td>1.29e-10</td>\n",
              "</tr>\n",
              "<tr>\n",
              "  <th>Time:</th>                 <td>11:15:52</td>     <th>  Log-Likelihood:    </th> <td> -80.015</td>\n",
              "</tr>\n",
              "<tr>\n",
              "  <th>No. Observations:</th>      <td>    32</td>      <th>  AIC:               </th> <td>   164.0</td>\n",
              "</tr>\n",
              "<tr>\n",
              "  <th>Df Residuals:</th>          <td>    30</td>      <th>  BIC:               </th> <td>   167.0</td>\n",
              "</tr>\n",
              "<tr>\n",
              "  <th>Df Model:</th>              <td>     1</td>      <th>                     </th>     <td> </td>   \n",
              "</tr>\n",
              "<tr>\n",
              "  <th>Covariance Type:</th>      <td>nonrobust</td>    <th>                     </th>     <td> </td>   \n",
              "</tr>\n",
              "</table>\n",
              "<table class=\"simpletable\">\n",
              "<tr>\n",
              "    <td></td>       <th>coef</th>     <th>std err</th>      <th>t</th>      <th>P>|t|</th>  <th>[0.025</th>    <th>0.975]</th>  \n",
              "</tr>\n",
              "<tr>\n",
              "  <th>const</th> <td>   37.2851</td> <td>    1.878</td> <td>   19.858</td> <td> 0.000</td> <td>   33.450</td> <td>   41.120</td>\n",
              "</tr>\n",
              "<tr>\n",
              "  <th>wt</th>    <td>   -5.3445</td> <td>    0.559</td> <td>   -9.559</td> <td> 0.000</td> <td>   -6.486</td> <td>   -4.203</td>\n",
              "</tr>\n",
              "</table>\n",
              "<table class=\"simpletable\">\n",
              "<tr>\n",
              "  <th>Omnibus:</th>       <td> 2.988</td> <th>  Durbin-Watson:     </th> <td>   1.252</td>\n",
              "</tr>\n",
              "<tr>\n",
              "  <th>Prob(Omnibus):</th> <td> 0.225</td> <th>  Jarque-Bera (JB):  </th> <td>   2.399</td>\n",
              "</tr>\n",
              "<tr>\n",
              "  <th>Skew:</th>          <td> 0.668</td> <th>  Prob(JB):          </th> <td>   0.301</td>\n",
              "</tr>\n",
              "<tr>\n",
              "  <th>Kurtosis:</th>      <td> 2.877</td> <th>  Cond. No.          </th> <td>    12.7</td>\n",
              "</tr>\n",
              "</table><br/><br/>Warnings:<br/>[1] Standard Errors assume that the covariance matrix of the errors is correctly specified."
            ],
            "text/plain": [
              "<class 'statsmodels.iolib.summary.Summary'>\n",
              "\"\"\"\n",
              "                            OLS Regression Results                            \n",
              "==============================================================================\n",
              "Dep. Variable:                    mpg   R-squared:                       0.753\n",
              "Model:                            OLS   Adj. R-squared:                  0.745\n",
              "Method:                 Least Squares   F-statistic:                     91.38\n",
              "Date:                Tue, 07 May 2019   Prob (F-statistic):           1.29e-10\n",
              "Time:                        11:15:52   Log-Likelihood:                -80.015\n",
              "No. Observations:                  32   AIC:                             164.0\n",
              "Df Residuals:                      30   BIC:                             167.0\n",
              "Df Model:                           1                                         \n",
              "Covariance Type:            nonrobust                                         \n",
              "==============================================================================\n",
              "                 coef    std err          t      P>|t|      [0.025      0.975]\n",
              "------------------------------------------------------------------------------\n",
              "const         37.2851      1.878     19.858      0.000      33.450      41.120\n",
              "wt            -5.3445      0.559     -9.559      0.000      -6.486      -4.203\n",
              "==============================================================================\n",
              "Omnibus:                        2.988   Durbin-Watson:                   1.252\n",
              "Prob(Omnibus):                  0.225   Jarque-Bera (JB):                2.399\n",
              "Skew:                           0.668   Prob(JB):                        0.301\n",
              "Kurtosis:                       2.877   Cond. No.                         12.7\n",
              "==============================================================================\n",
              "\n",
              "Warnings:\n",
              "[1] Standard Errors assume that the covariance matrix of the errors is correctly specified.\n",
              "\"\"\""
            ]
          },
          "metadata": {
            "tags": []
          },
          "execution_count": 104
        }
      ]
    },
    {
      "cell_type": "code",
      "metadata": {
        "id": "OtIQXVG_5s15",
        "colab_type": "code",
        "outputId": "e4970ec7-4b09-4d87-acf7-5175a185f8eb",
        "colab": {
          "base_uri": "https://localhost:8080/",
          "height": 269
        }
      },
      "source": [
        "sns.heatmap(cars.corr(), cmap='BuGn')\n",
        "plt.show() "
      ],
      "execution_count": 0,
      "outputs": [
        {
          "output_type": "display_data",
          "data": {
            "image/png": "[encoded data removed]",
            "text/plain": [
              "<Figure size 432x288 with 2 Axes>"
            ]
          },
          "metadata": {
            "tags": []
          }
        }
      ]
    },
    {
      "cell_type": "code",
      "metadata": {
        "id": "-fIQ4CZS6hbu",
        "colab_type": "code",
        "colab": {}
      },
      "source": [
        ""
      ],
      "execution_count": 0,
      "outputs": []
    },
    {
      "cell_type": "code",
      "metadata": {
        "id": "2gWyRfX1FIou",
        "colab_type": "code",
        "outputId": "a09e0246-40c3-4444-cd35-e3aac67102a3",
        "colab": {
          "base_uri": "https://localhost:8080/",
          "height": 35
        }
      },
      "source": [
        "new_x = [1,3.0]\n",
        "predictions = model.predict(new_x)\n",
        "print ('Predicted mpg of the car with weight %d(000 lbs) is %2.2f' %(3.0, np.round(predictions,3)))\n",
        "\n"
      ],
      "execution_count": 0,
      "outputs": [
        {
          "output_type": "stream",
          "text": [
            "Predicted mpg of the car with weight 3(000 lbs) is 21.25\n"
          ],
          "name": "stdout"
        }
      ]
    },
    {
      "cell_type": "code",
      "metadata": {
        "id": "EuHO0bUUGjlf",
        "colab_type": "code",
        "outputId": "93024030-54db-49f0-d730-441ed5f85886",
        "colab": {
          "base_uri": "https://localhost:8080/",
          "height": 156
        }
      },
      "source": [
        "from sklearn import linear_model\n",
        "\n",
        "X= np.array(cars.wt).reshape(-1,1)\n",
        "y= cars.mpg\n",
        "lm = linear_model.LinearRegression()\n",
        "model=lm.fit(X,y)\n",
        "\n",
        "predictions = model.predict(X)\n",
        "\n",
        "print(predictions) \n",
        "\n",
        "\n",
        "print('R sqare is %1.3f' %lm.score(X,y))\n",
        "\n",
        "\n",
        "new_X = np.array([3.0]).reshape(-1,1)\n",
        "predictions = lm.predict(new_X)\n",
        "print(predictions) \n",
        "\n",
        "                            \n",
        "    "
      ],
      "execution_count": 0,
      "outputs": [
        {
          "output_type": "stream",
          "text": [
            "[23.28261065 21.9197704  24.88595212 20.10265006 18.90014396 18.79325453\n",
            " 18.20536265 20.23626185 20.45004071 18.90014396 18.90014396 15.53312687\n",
            " 17.3502472  17.08302362  9.22665041  8.29671236  8.71892561 25.52728871\n",
            " 28.65380458 27.47802083 24.11100374 18.47258623 18.92686632 16.76235533\n",
            " 16.73563297 26.94357367 25.847957   29.19894068 20.34315128 22.48093991\n",
            " 18.20536265 22.4274952 ]\n",
            "R sqare is 0.753\n",
            "[21.25171145]\n"
          ],
          "name": "stdout"
        }
      ]
    },
    {
      "cell_type": "code",
      "metadata": {
        "id": "f2QLn_WI6N0Z",
        "colab_type": "code",
        "outputId": "d59cf546-07f9-4275-808d-c2df89d02676",
        "colab": {
          "base_uri": "https://localhost:8080/",
          "height": 156
        }
      },
      "source": [
        "from sklearn import linear_model\n",
        "\n",
        "X= np.array(cars.qsec).reshape(-1,1)\n",
        "y= cars.mpg\n",
        "lm = linear_model.LinearRegression()\n",
        "model=lm.fit(X,y)\n",
        "\n",
        "predictions = model.predict(X)\n",
        "\n",
        "print(predictions) \n",
        "\n",
        "\n",
        "print('R sqare is %1.3f' %lm.score(X,y))\n",
        "\n",
        "\n",
        "new_X = np.array([3.0]).reshape(-1,1)\n",
        "predictions = lm.predict(new_X)\n",
        "print(predictions) \n"
      ],
      "execution_count": 0,
      "outputs": [
        {
          "output_type": "stream",
          "text": [
            "[18.12953664 18.92032654 21.16560503 22.33766864 18.92032654 23.43912602\n",
            " 17.25401924 23.12845855 27.22362057 20.72784633 21.57512123 19.45693398\n",
            " 19.73935895 20.30420888 20.27596638 20.05002641 19.48517648 22.38003239\n",
            " 21.0385138  22.98724607 23.1425798  18.70850782 19.3157215  16.64680556\n",
            " 18.96269029 21.57512123 18.4684466  18.75087156 15.36177196 16.77389679\n",
            " 15.50298444 21.15148378]\n",
            "R sqare is 0.175\n",
            "[-0.87766365]\n"
          ],
          "name": "stdout"
        }
      ]
    },
    {
      "cell_type": "code",
      "metadata": {
        "id": "TN_pyYTOsFKC",
        "colab_type": "code",
        "outputId": "31a4811c-3bb1-403d-ebee-0844fa8a838c",
        "colab": {
          "base_uri": "https://localhost:8080/",
          "height": 495
        }
      },
      "source": [
        "#OLS Ordinary Least Square Method\n",
        "\n",
        "X= cars.qsec\n",
        "y= cars.mpg\n",
        "\n",
        "X = sm.add_constant(X)\n",
        "\n",
        "model = sm.OLS(y,X).fit()\n",
        "prediction = model.predict(X)\n",
        "\n",
        "model.summary() "
      ],
      "execution_count": 0,
      "outputs": [
        {
          "output_type": "stream",
          "text": [
            "/usr/local/lib/python3.6/dist-packages/numpy/core/fromnumeric.py:2389: FutureWarning: Method .ptp is deprecated and will be removed in a future version. Use numpy.ptp instead.\n",
            "  return ptp(axis=axis, out=out, **kwargs)\n"
          ],
          "name": "stderr"
        },
        {
          "output_type": "execute_result",
          "data": {
            "text/html": [
              "<table class=\"simpletable\">\n",
              "<caption>OLS Regression Results</caption>\n",
              "<tr>\n",
              "  <th>Dep. Variable:</th>           <td>mpg</td>       <th>  R-squared:         </th> <td>   0.175</td>\n",
              "</tr>\n",
              "<tr>\n",
              "  <th>Model:</th>                   <td>OLS</td>       <th>  Adj. R-squared:    </th> <td>   0.148</td>\n",
              "</tr>\n",
              "<tr>\n",
              "  <th>Method:</th>             <td>Least Squares</td>  <th>  F-statistic:       </th> <td>   6.377</td>\n",
              "</tr>\n",
              "<tr>\n",
              "  <th>Date:</th>             <td>Wed, 08 May 2019</td> <th>  Prob (F-statistic):</th>  <td>0.0171</td> \n",
              "</tr>\n",
              "<tr>\n",
              "  <th>Time:</th>                 <td>04:28:45</td>     <th>  Log-Likelihood:    </th> <td> -99.294</td>\n",
              "</tr>\n",
              "<tr>\n",
              "  <th>No. Observations:</th>      <td>    32</td>      <th>  AIC:               </th> <td>   202.6</td>\n",
              "</tr>\n",
              "<tr>\n",
              "  <th>Df Residuals:</th>          <td>    30</td>      <th>  BIC:               </th> <td>   205.5</td>\n",
              "</tr>\n",
              "<tr>\n",
              "  <th>Df Model:</th>              <td>     1</td>      <th>                     </th>     <td> </td>   \n",
              "</tr>\n",
              "<tr>\n",
              "  <th>Covariance Type:</th>      <td>nonrobust</td>    <th>                     </th>     <td> </td>   \n",
              "</tr>\n",
              "</table>\n",
              "<table class=\"simpletable\">\n",
              "<tr>\n",
              "    <td></td>       <th>coef</th>     <th>std err</th>      <th>t</th>      <th>P>|t|</th>  <th>[0.025</th>    <th>0.975]</th>  \n",
              "</tr>\n",
              "<tr>\n",
              "  <th>const</th> <td>   -5.1140</td> <td>   10.030</td> <td>   -0.510</td> <td> 0.614</td> <td>  -25.597</td> <td>   15.369</td>\n",
              "</tr>\n",
              "<tr>\n",
              "  <th>qsec</th>  <td>    1.4121</td> <td>    0.559</td> <td>    2.525</td> <td> 0.017</td> <td>    0.270</td> <td>    2.554</td>\n",
              "</tr>\n",
              "</table>\n",
              "<table class=\"simpletable\">\n",
              "<tr>\n",
              "  <th>Omnibus:</th>       <td> 2.112</td> <th>  Durbin-Watson:     </th> <td>   0.807</td>\n",
              "</tr>\n",
              "<tr>\n",
              "  <th>Prob(Omnibus):</th> <td> 0.348</td> <th>  Jarque-Bera (JB):  </th> <td>   1.673</td>\n",
              "</tr>\n",
              "<tr>\n",
              "  <th>Skew:</th>          <td> 0.554</td> <th>  Prob(JB):          </th> <td>   0.433</td>\n",
              "</tr>\n",
              "<tr>\n",
              "  <th>Kurtosis:</th>      <td> 2.833</td> <th>  Cond. No.          </th> <td>    183.</td>\n",
              "</tr>\n",
              "</table><br/><br/>Warnings:<br/>[1] Standard Errors assume that the covariance matrix of the errors is correctly specified."
            ],
            "text/plain": [
              "<class 'statsmodels.iolib.summary.Summary'>\n",
              "\"\"\"\n",
              "                            OLS Regression Results                            \n",
              "==============================================================================\n",
              "Dep. Variable:                    mpg   R-squared:                       0.175\n",
              "Model:                            OLS   Adj. R-squared:                  0.148\n",
              "Method:                 Least Squares   F-statistic:                     6.377\n",
              "Date:                Wed, 08 May 2019   Prob (F-statistic):             0.0171\n",
              "Time:                        04:28:45   Log-Likelihood:                -99.294\n",
              "No. Observations:                  32   AIC:                             202.6\n",
              "Df Residuals:                      30   BIC:                             205.5\n",
              "Df Model:                           1                                         \n",
              "Covariance Type:            nonrobust                                         \n",
              "==============================================================================\n",
              "                 coef    std err          t      P>|t|      [0.025      0.975]\n",
              "------------------------------------------------------------------------------\n",
              "const         -5.1140     10.030     -0.510      0.614     -25.597      15.369\n",
              "qsec           1.4121      0.559      2.525      0.017       0.270       2.554\n",
              "==============================================================================\n",
              "Omnibus:                        2.112   Durbin-Watson:                   0.807\n",
              "Prob(Omnibus):                  0.348   Jarque-Bera (JB):                1.673\n",
              "Skew:                           0.554   Prob(JB):                        0.433\n",
              "Kurtosis:                       2.833   Cond. No.                         183.\n",
              "==============================================================================\n",
              "\n",
              "Warnings:\n",
              "[1] Standard Errors assume that the covariance matrix of the errors is correctly specified.\n",
              "\"\"\""
            ]
          },
          "metadata": {
            "tags": []
          },
          "execution_count": 9
        }
      ]
    },
    {
      "cell_type": "code",
      "metadata": {
        "id": "QqSeaOHSrkzo",
        "colab_type": "code",
        "colab": {
          "base_uri": "https://localhost:8080/",
          "height": 1123
        },
        "outputId": "7baaa402-aacc-4cdb-c3b2-01167bbc5a94"
      },
      "source": [
        "import statsmodels.api as sm\n",
        "import scipy.stats as stats\n",
        "import matplotlib.pyplot as plt\n",
        "\n",
        "X = cars[[\"wt\",\"disp\"]]\n",
        "y = cars.mpg\n",
        "\n",
        "X = sm.add_constant(X) # Add an intercept to our model\n",
        "print(X)\n",
        "\n",
        "X = cars[[\"wt\",\"disp\"]]\n",
        "y = cars.mpg\n",
        "\n",
        "X = sm.add_constant(X)\n",
        "\n",
        "model = sm.OLS(y,X).fit()\n",
        "prediction = model.predict(X)\n",
        "\n",
        "model.summary()\n",
        "\n",
        "X.drop()"
      ],
      "execution_count": 14,
      "outputs": [
        {
          "output_type": "stream",
          "text": [
            "                     const     wt   disp\n",
            "Mazda RX4              1.0  2.620  160.0\n",
            "Mazda RX4 Wag          1.0  2.875  160.0\n",
            "Datsun 710             1.0  2.320  108.0\n",
            "Hornet 4 Drive         1.0  3.215  258.0\n",
            "Hornet Sportabout      1.0  3.440  360.0\n",
            "Valiant                1.0  3.460  225.0\n",
            "Duster 360             1.0  3.570  360.0\n",
            "Merc 240D              1.0  3.190  146.7\n",
            "Merc 230               1.0  3.150  140.8\n",
            "Merc 280               1.0  3.440  167.6\n",
            "Merc 280C              1.0  3.440  167.6\n",
            "Merc 450SE             1.0  4.070  275.8\n",
            "Merc 450SL             1.0  3.730  275.8\n",
            "Merc 450SLC            1.0  3.780  275.8\n",
            "Cadillac Fleetwood     1.0  5.250  472.0\n",
            "Lincoln Continental    1.0  5.424  460.0\n",
            "Chrysler Imperial      1.0  5.345  440.0\n",
            "Fiat 128               1.0  2.200   78.7\n",
            "Honda Civic            1.0  1.615   75.7\n",
            "Toyota Corolla         1.0  1.835   71.1\n",
            "Toyota Corona          1.0  2.465  120.1\n",
            "Dodge Challenger       1.0  3.520  318.0\n",
            "AMC Javelin            1.0  3.435  304.0\n",
            "Camaro Z28             1.0  3.840  350.0\n",
            "Pontiac Firebird       1.0  3.845  400.0\n",
            "Fiat X1-9              1.0  1.935   79.0\n",
            "Porsche 914-2          1.0  2.140  120.3\n",
            "Lotus Europa           1.0  1.513   95.1\n",
            "Ford Pantera L         1.0  3.170  351.0\n",
            "Ferrari Dino           1.0  2.770  145.0\n",
            "Maserati Bora          1.0  3.570  301.0\n",
            "Volvo 142E             1.0  2.780  121.0\n"
          ],
          "name": "stdout"
        },
        {
          "output_type": "stream",
          "text": [
            "/usr/local/lib/python3.6/dist-packages/numpy/core/fromnumeric.py:2389: FutureWarning: Method .ptp is deprecated and will be removed in a future version. Use numpy.ptp instead.\n",
            "  return ptp(axis=axis, out=out, **kwargs)\n"
          ],
          "name": "stderr"
        },
        {
          "output_type": "execute_result",
          "data": {
            "text/html": [
              "<table class=\"simpletable\">\n",
              "<caption>OLS Regression Results</caption>\n",
              "<tr>\n",
              "  <th>Dep. Variable:</th>           <td>mpg</td>       <th>  R-squared:         </th> <td>   0.781</td>\n",
              "</tr>\n",
              "<tr>\n",
              "  <th>Model:</th>                   <td>OLS</td>       <th>  Adj. R-squared:    </th> <td>   0.766</td>\n",
              "</tr>\n",
              "<tr>\n",
              "  <th>Method:</th>             <td>Least Squares</td>  <th>  F-statistic:       </th> <td>   51.69</td>\n",
              "</tr>\n",
              "<tr>\n",
              "  <th>Date:</th>             <td>Wed, 08 May 2019</td> <th>  Prob (F-statistic):</th> <td>2.74e-10</td>\n",
              "</tr>\n",
              "<tr>\n",
              "  <th>Time:</th>                 <td>04:59:10</td>     <th>  Log-Likelihood:    </th> <td> -78.084</td>\n",
              "</tr>\n",
              "<tr>\n",
              "  <th>No. Observations:</th>      <td>    32</td>      <th>  AIC:               </th> <td>   162.2</td>\n",
              "</tr>\n",
              "<tr>\n",
              "  <th>Df Residuals:</th>          <td>    29</td>      <th>  BIC:               </th> <td>   166.6</td>\n",
              "</tr>\n",
              "<tr>\n",
              "  <th>Df Model:</th>              <td>     2</td>      <th>                     </th>     <td> </td>   \n",
              "</tr>\n",
              "<tr>\n",
              "  <th>Covariance Type:</th>      <td>nonrobust</td>    <th>                     </th>     <td> </td>   \n",
              "</tr>\n",
              "</table>\n",
              "<table class=\"simpletable\">\n",
              "<tr>\n",
              "    <td></td>       <th>coef</th>     <th>std err</th>      <th>t</th>      <th>P>|t|</th>  <th>[0.025</th>    <th>0.975]</th>  \n",
              "</tr>\n",
              "<tr>\n",
              "  <th>const</th> <td>   34.9606</td> <td>    2.165</td> <td>   16.151</td> <td> 0.000</td> <td>   30.534</td> <td>   39.388</td>\n",
              "</tr>\n",
              "<tr>\n",
              "  <th>wt</th>    <td>   -3.3508</td> <td>    1.164</td> <td>   -2.878</td> <td> 0.007</td> <td>   -5.732</td> <td>   -0.970</td>\n",
              "</tr>\n",
              "<tr>\n",
              "  <th>disp</th>  <td>   -0.0177</td> <td>    0.009</td> <td>   -1.929</td> <td> 0.064</td> <td>   -0.037</td> <td>    0.001</td>\n",
              "</tr>\n",
              "</table>\n",
              "<table class=\"simpletable\">\n",
              "<tr>\n",
              "  <th>Omnibus:</th>       <td> 4.079</td> <th>  Durbin-Watson:     </th> <td>   1.277</td>\n",
              "</tr>\n",
              "<tr>\n",
              "  <th>Prob(Omnibus):</th> <td> 0.130</td> <th>  Jarque-Bera (JB):  </th> <td>   3.665</td>\n",
              "</tr>\n",
              "<tr>\n",
              "  <th>Skew:</th>          <td> 0.812</td> <th>  Prob(JB):          </th> <td>   0.160</td>\n",
              "</tr>\n",
              "<tr>\n",
              "  <th>Kurtosis:</th>      <td> 2.666</td> <th>  Cond. No.          </th> <td>1.21e+03</td>\n",
              "</tr>\n",
              "</table><br/><br/>Warnings:<br/>[1] Standard Errors assume that the covariance matrix of the errors is correctly specified.<br/>[2] The condition number is large, 1.21e+03. This might indicate that there are<br/>strong multicollinearity or other numerical problems."
            ],
            "text/plain": [
              "<class 'statsmodels.iolib.summary.Summary'>\n",
              "\"\"\"\n",
              "                            OLS Regression Results                            \n",
              "==============================================================================\n",
              "Dep. Variable:                    mpg   R-squared:                       0.781\n",
              "Model:                            OLS   Adj. R-squared:                  0.766\n",
              "Method:                 Least Squares   F-statistic:                     51.69\n",
              "Date:                Wed, 08 May 2019   Prob (F-statistic):           2.74e-10\n",
              "Time:                        04:59:10   Log-Likelihood:                -78.084\n",
              "No. Observations:                  32   AIC:                             162.2\n",
              "Df Residuals:                      29   BIC:                             166.6\n",
              "Df Model:                           2                                         \n",
              "Covariance Type:            nonrobust                                         \n",
              "==============================================================================\n",
              "                 coef    std err          t      P>|t|      [0.025      0.975]\n",
              "------------------------------------------------------------------------------\n",
              "const         34.9606      2.165     16.151      0.000      30.534      39.388\n",
              "wt            -3.3508      1.164     -2.878      0.007      -5.732      -0.970\n",
              "disp          -0.0177      0.009     -1.929      0.064      -0.037       0.001\n",
              "==============================================================================\n",
              "Omnibus:                        4.079   Durbin-Watson:                   1.277\n",
              "Prob(Omnibus):                  0.130   Jarque-Bera (JB):                3.665\n",
              "Skew:                           0.812   Prob(JB):                        0.160\n",
              "Kurtosis:                       2.666   Cond. No.                     1.21e+03\n",
              "==============================================================================\n",
              "\n",
              "Warnings:\n",
              "[1] Standard Errors assume that the covariance matrix of the errors is correctly specified.\n",
              "[2] The condition number is large, 1.21e+03. This might indicate that there are\n",
              "strong multicollinearity or other numerical problems.\n",
              "\"\"\""
            ]
          },
          "metadata": {
            "tags": []
          },
          "execution_count": 14
        }
      ]
    },
    {
      "cell_type": "code",
      "metadata": {
        "id": "8xudX5ivtGYL",
        "colab_type": "code",
        "colab": {
          "base_uri": "https://localhost:8080/",
          "height": 696
        },
        "outputId": "6573543b-26cf-410b-e2d0-7fa14908e6ec"
      },
      "source": [
        "\n",
        "  X= cars.iloc[:,1:11]\n",
        "  y= cars.mpg\n",
        "\n",
        "  X = sm.add_constant(X)\n",
        "\n",
        "  model = sm.OLS(y,X).fit()\n",
        "  prediction = model.predict(X)\n",
        "\n",
        "  model.summary() \n",
        "\n"
      ],
      "execution_count": 18,
      "outputs": [
        {
          "output_type": "stream",
          "text": [
            "/usr/local/lib/python3.6/dist-packages/numpy/core/fromnumeric.py:2389: FutureWarning: Method .ptp is deprecated and will be removed in a future version. Use numpy.ptp instead.\n",
            "  return ptp(axis=axis, out=out, **kwargs)\n"
          ],
          "name": "stderr"
        },
        {
          "output_type": "execute_result",
          "data": {
            "text/html": [
              "<table class=\"simpletable\">\n",
              "<caption>OLS Regression Results</caption>\n",
              "<tr>\n",
              "  <th>Dep. Variable:</th>           <td>mpg</td>       <th>  R-squared:         </th> <td>   0.869</td>\n",
              "</tr>\n",
              "<tr>\n",
              "  <th>Model:</th>                   <td>OLS</td>       <th>  Adj. R-squared:    </th> <td>   0.807</td>\n",
              "</tr>\n",
              "<tr>\n",
              "  <th>Method:</th>             <td>Least Squares</td>  <th>  F-statistic:       </th> <td>   13.93</td>\n",
              "</tr>\n",
              "<tr>\n",
              "  <th>Date:</th>             <td>Wed, 08 May 2019</td> <th>  Prob (F-statistic):</th> <td>3.79e-07</td>\n",
              "</tr>\n",
              "<tr>\n",
              "  <th>Time:</th>                 <td>05:05:09</td>     <th>  Log-Likelihood:    </th> <td> -69.855</td>\n",
              "</tr>\n",
              "<tr>\n",
              "  <th>No. Observations:</th>      <td>    32</td>      <th>  AIC:               </th> <td>   161.7</td>\n",
              "</tr>\n",
              "<tr>\n",
              "  <th>Df Residuals:</th>          <td>    21</td>      <th>  BIC:               </th> <td>   177.8</td>\n",
              "</tr>\n",
              "<tr>\n",
              "  <th>Df Model:</th>              <td>    10</td>      <th>                     </th>     <td> </td>   \n",
              "</tr>\n",
              "<tr>\n",
              "  <th>Covariance Type:</th>      <td>nonrobust</td>    <th>                     </th>     <td> </td>   \n",
              "</tr>\n",
              "</table>\n",
              "<table class=\"simpletable\">\n",
              "<tr>\n",
              "    <td></td>       <th>coef</th>     <th>std err</th>      <th>t</th>      <th>P>|t|</th>  <th>[0.025</th>    <th>0.975]</th>  \n",
              "</tr>\n",
              "<tr>\n",
              "  <th>const</th> <td>   12.3034</td> <td>   18.718</td> <td>    0.657</td> <td> 0.518</td> <td>  -26.623</td> <td>   51.229</td>\n",
              "</tr>\n",
              "<tr>\n",
              "  <th>cyl</th>   <td>   -0.1114</td> <td>    1.045</td> <td>   -0.107</td> <td> 0.916</td> <td>   -2.285</td> <td>    2.062</td>\n",
              "</tr>\n",
              "<tr>\n",
              "  <th>disp</th>  <td>    0.0133</td> <td>    0.018</td> <td>    0.747</td> <td> 0.463</td> <td>   -0.024</td> <td>    0.050</td>\n",
              "</tr>\n",
              "<tr>\n",
              "  <th>hp</th>    <td>   -0.0215</td> <td>    0.022</td> <td>   -0.987</td> <td> 0.335</td> <td>   -0.067</td> <td>    0.024</td>\n",
              "</tr>\n",
              "<tr>\n",
              "  <th>drat</th>  <td>    0.7871</td> <td>    1.635</td> <td>    0.481</td> <td> 0.635</td> <td>   -2.614</td> <td>    4.188</td>\n",
              "</tr>\n",
              "<tr>\n",
              "  <th>wt</th>    <td>   -3.7153</td> <td>    1.894</td> <td>   -1.961</td> <td> 0.063</td> <td>   -7.655</td> <td>    0.224</td>\n",
              "</tr>\n",
              "<tr>\n",
              "  <th>qsec</th>  <td>    0.8210</td> <td>    0.731</td> <td>    1.123</td> <td> 0.274</td> <td>   -0.699</td> <td>    2.341</td>\n",
              "</tr>\n",
              "<tr>\n",
              "  <th>vs</th>    <td>    0.3178</td> <td>    2.105</td> <td>    0.151</td> <td> 0.881</td> <td>   -4.059</td> <td>    4.694</td>\n",
              "</tr>\n",
              "<tr>\n",
              "  <th>am</th>    <td>    2.5202</td> <td>    2.057</td> <td>    1.225</td> <td> 0.234</td> <td>   -1.757</td> <td>    6.797</td>\n",
              "</tr>\n",
              "<tr>\n",
              "  <th>gear</th>  <td>    0.6554</td> <td>    1.493</td> <td>    0.439</td> <td> 0.665</td> <td>   -2.450</td> <td>    3.761</td>\n",
              "</tr>\n",
              "<tr>\n",
              "  <th>carb</th>  <td>   -0.1994</td> <td>    0.829</td> <td>   -0.241</td> <td> 0.812</td> <td>   -1.923</td> <td>    1.524</td>\n",
              "</tr>\n",
              "</table>\n",
              "<table class=\"simpletable\">\n",
              "<tr>\n",
              "  <th>Omnibus:</th>       <td> 1.907</td> <th>  Durbin-Watson:     </th> <td>   1.861</td>\n",
              "</tr>\n",
              "<tr>\n",
              "  <th>Prob(Omnibus):</th> <td> 0.385</td> <th>  Jarque-Bera (JB):  </th> <td>   1.747</td>\n",
              "</tr>\n",
              "<tr>\n",
              "  <th>Skew:</th>          <td> 0.521</td> <th>  Prob(JB):          </th> <td>   0.418</td>\n",
              "</tr>\n",
              "<tr>\n",
              "  <th>Kurtosis:</th>      <td> 2.526</td> <th>  Cond. No.          </th> <td>1.22e+04</td>\n",
              "</tr>\n",
              "</table><br/><br/>Warnings:<br/>[1] Standard Errors assume that the covariance matrix of the errors is correctly specified.<br/>[2] The condition number is large, 1.22e+04. This might indicate that there are<br/>strong multicollinearity or other numerical problems."
            ],
            "text/plain": [
              "<class 'statsmodels.iolib.summary.Summary'>\n",
              "\"\"\"\n",
              "                            OLS Regression Results                            \n",
              "==============================================================================\n",
              "Dep. Variable:                    mpg   R-squared:                       0.869\n",
              "Model:                            OLS   Adj. R-squared:                  0.807\n",
              "Method:                 Least Squares   F-statistic:                     13.93\n",
              "Date:                Wed, 08 May 2019   Prob (F-statistic):           3.79e-07\n",
              "Time:                        05:05:09   Log-Likelihood:                -69.855\n",
              "No. Observations:                  32   AIC:                             161.7\n",
              "Df Residuals:                      21   BIC:                             177.8\n",
              "Df Model:                          10                                         \n",
              "Covariance Type:            nonrobust                                         \n",
              "==============================================================================\n",
              "                 coef    std err          t      P>|t|      [0.025      0.975]\n",
              "------------------------------------------------------------------------------\n",
              "const         12.3034     18.718      0.657      0.518     -26.623      51.229\n",
              "cyl           -0.1114      1.045     -0.107      0.916      -2.285       2.062\n",
              "disp           0.0133      0.018      0.747      0.463      -0.024       0.050\n",
              "hp            -0.0215      0.022     -0.987      0.335      -0.067       0.024\n",
              "drat           0.7871      1.635      0.481      0.635      -2.614       4.188\n",
              "wt            -3.7153      1.894     -1.961      0.063      -7.655       0.224\n",
              "qsec           0.8210      0.731      1.123      0.274      -0.699       2.341\n",
              "vs             0.3178      2.105      0.151      0.881      -4.059       4.694\n",
              "am             2.5202      2.057      1.225      0.234      -1.757       6.797\n",
              "gear           0.6554      1.493      0.439      0.665      -2.450       3.761\n",
              "carb          -0.1994      0.829     -0.241      0.812      -1.923       1.524\n",
              "==============================================================================\n",
              "Omnibus:                        1.907   Durbin-Watson:                   1.861\n",
              "Prob(Omnibus):                  0.385   Jarque-Bera (JB):                1.747\n",
              "Skew:                           0.521   Prob(JB):                        0.418\n",
              "Kurtosis:                       2.526   Cond. No.                     1.22e+04\n",
              "==============================================================================\n",
              "\n",
              "Warnings:\n",
              "[1] Standard Errors assume that the covariance matrix of the errors is correctly specified.\n",
              "[2] The condition number is large, 1.22e+04. This might indicate that there are\n",
              "strong multicollinearity or other numerical problems.\n",
              "\"\"\""
            ]
          },
          "metadata": {
            "tags": []
          },
          "execution_count": 18
        }
      ]
    },
    {
      "cell_type": "code",
      "metadata": {
        "id": "YMi-Wg83CZXL",
        "colab_type": "code",
        "colab": {
          "resources": {
            "http://localhost:8080/nbextensions/google.colab/files.js": {
              "data": "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",
              "ok": true,
              "headers": [
                [
                  "content-type",
                  "application/javascript"
                ]
              ],
              "status": 200,
              "status_text": ""
            }
          },
          "base_uri": "https://localhost:8080/",
          "height": 75
        },
        "outputId": "0cca7414-5808-40d1-afa2-1483efaa3aba"
      },
      "source": [
        "from google.colab import files\n",
        "uploaded = files.upload()"
      ],
      "execution_count": 39,
      "outputs": [
        {
          "output_type": "display_data",
          "data": {
            "text/html": [
              "\n",
              "     <input type=\"file\" id=\"files-fe2ba2ad-bc50-4683-89a7-9f34f0bc65dc\" name=\"files[]\" multiple disabled />\n",
              "     <output id=\"result-fe2ba2ad-bc50-4683-89a7-9f34f0bc65dc\">\n",
              "      Upload widget is only available when the cell has been executed in the\n",
              "      current browser session. Please rerun this cell to enable.\n",
              "      </output>\n",
              "      <script src=\"/nbextensions/google.colab/files.js\"></script> "
            ],
            "text/plain": [
              "<IPython.core.display.HTML object>"
            ]
          },
          "metadata": {
            "tags": []
          }
        },
        {
          "output_type": "stream",
          "text": [
            "Saving wisc_bc_data.csv to wisc_bc_data.csv\n"
          ],
          "name": "stdout"
        }
      ]
    },
    {
      "cell_type": "code",
      "metadata": {
        "id": "jUgCYIykC_1I",
        "colab_type": "code",
        "colab": {
          "base_uri": "https://localhost:8080/",
          "height": 2292
        },
        "outputId": "8bfc5340-0387-4738-a3ed-9e4f27921990"
      },
      "source": [
        "cement = pd.read_csv('concrete.csv')\n",
        "\n",
        "print(cement.shape)\n",
        "print(cement.head)\n",
        "\n",
        "\n"
      ],
      "execution_count": 38,
      "outputs": [
        {
          "output_type": "stream",
          "text": [
            "(1030, 9)\n",
            "<bound method NDFrame.head of       cement   slag    ash  water  superplastic  coarseagg  fineagg  age  \\\n",
            "0      141.3  212.0    0.0  203.5           0.0      971.8    748.5   28   \n",
            "1      168.9   42.2  124.3  158.3          10.8     1080.8    796.2   14   \n",
            "2      250.0    0.0   95.7  187.4           5.5      956.9    861.2   28   \n",
            "3      266.0  114.0    0.0  228.0           0.0      932.0    670.0   28   \n",
            "4      154.8  183.4    0.0  193.3           9.1     1047.4    696.7   28   \n",
            "5      255.0    0.0    0.0  192.0           0.0      889.8    945.0   90   \n",
            "6      166.8  250.2    0.0  203.5           0.0      975.6    692.6    7   \n",
            "7      251.4    0.0  118.3  188.5           6.4     1028.4    757.7   56   \n",
            "8      296.0    0.0    0.0  192.0           0.0     1085.0    765.0   28   \n",
            "9      155.0  184.0  143.0  194.0           9.0      880.0    699.0   28   \n",
            "10     151.8  178.1  138.7  167.5          18.3      944.0    694.6   28   \n",
            "11     173.0  116.0    0.0  192.0           0.0      946.8    856.8    3   \n",
            "12     385.0    0.0    0.0  186.0           0.0      966.0    763.0   14   \n",
            "13     237.5  237.5    0.0  228.0           0.0      932.0    594.0    7   \n",
            "14     167.0  187.0  195.0  185.0           7.0      898.0    636.0   28   \n",
            "15     213.8   98.1   24.5  181.7           6.7     1066.0    785.5  100   \n",
            "16     237.5  237.5    0.0  228.0           0.0      932.0    594.0   28   \n",
            "17     336.0    0.0    0.0  182.0           3.0      986.0    817.0   28   \n",
            "18     190.7    0.0  125.4  162.1           7.8     1090.0    804.0    3   \n",
            "19     312.7    0.0    0.0  178.1           8.0      999.7    822.2   28   \n",
            "20     229.7    0.0  118.2  195.2           6.1     1028.1    757.6    3   \n",
            "21     228.0  342.1    0.0  185.7           0.0      955.8    674.3    7   \n",
            "22     236.0  157.0    0.0  192.0           0.0      972.6    749.1    7   \n",
            "23     132.0  207.0  161.0  179.0           5.0      867.0    736.0   28   \n",
            "24     331.0    0.0    0.0  192.0           0.0     1025.0    821.0   28   \n",
            "25     310.0  143.0    0.0  168.0          10.0      914.0    804.0   28   \n",
            "26     304.0   76.0    0.0  228.0           0.0      932.0    670.0   90   \n",
            "27     425.0  106.3    0.0  153.5          16.5      852.1    887.1   91   \n",
            "28     166.1    0.0  163.3  176.5           4.5     1058.6    780.1   28   \n",
            "29     255.0   99.0   77.0  189.0           6.0      919.0    749.0   28   \n",
            "...      ...    ...    ...    ...           ...        ...      ...  ...   \n",
            "1000   165.0    0.0  143.6  163.8           0.0     1005.6    900.9  100   \n",
            "1001   233.8    0.0   94.6  197.9           4.6      947.0    852.2   28   \n",
            "1002   316.1  210.7    0.0  185.7           0.0      977.0    689.3   28   \n",
            "1003   323.7  282.8    0.0  183.8          10.3      942.7    659.9   56   \n",
            "1004   250.0    0.0   95.7  191.8           5.3      948.9    857.2   28   \n",
            "1005   387.0   20.0   94.0  157.0          14.3      938.0    845.0   28   \n",
            "1006   158.0    0.0  195.0  220.0          11.0      898.0    713.0   28   \n",
            "1007   288.0  192.0    0.0  192.0           0.0      932.0    717.8    3   \n",
            "1008   213.5    0.0  174.2  154.6          11.7     1052.3    775.5  100   \n",
            "1009   213.7   98.1   24.5  181.7           6.9     1065.8    785.4   28   \n",
            "1010   190.3    0.0  125.2  166.6           9.9     1079.0    798.9    3   \n",
            "1011   313.0    0.0    0.0  178.0           8.0     1000.0    822.0   28   \n",
            "1012   296.0    0.0    0.0  192.0           0.0     1085.0    765.0   90   \n",
            "1013   359.0   19.0  141.0  154.0          10.9      942.0    801.0   28   \n",
            "1014   153.1  145.0  113.0  178.5           8.0      867.2    824.0   28   \n",
            "1015   298.0    0.0  107.0  186.0           6.0      879.0    815.0   28   \n",
            "1016   140.0  133.0  103.0  200.0           7.0      916.0    753.0   28   \n",
            "1017   139.6  209.4    0.0  192.0           0.0     1047.0    806.9  180   \n",
            "1018   147.0  115.0   89.0  202.0           9.0      860.0    829.0   28   \n",
            "1019   288.0  192.0    0.0  192.0           0.0      932.0    717.8    7   \n",
            "1020   183.9  122.6    0.0  203.5           0.0      959.2    800.0    7   \n",
            "1021   203.5  305.3    0.0  203.5           0.0      963.4    630.0    3   \n",
            "1022   144.8    0.0  133.6  180.8          11.1      979.5    811.5   28   \n",
            "1023   141.3  212.0    0.0  203.5           0.0      971.8    748.5    7   \n",
            "1024   297.2    0.0  117.5  174.8           9.5     1022.8    753.5    3   \n",
            "1025   135.0    0.0  166.0  180.0          10.0      961.0    805.0   28   \n",
            "1026   531.3    0.0    0.0  141.8          28.2      852.1    893.7    3   \n",
            "1027   276.4  116.0   90.3  179.6           8.9      870.1    768.3   28   \n",
            "1028   342.0   38.0    0.0  228.0           0.0      932.0    670.0  270   \n",
            "1029   540.0    0.0    0.0  173.0           0.0     1125.0    613.0    7   \n",
            "\n",
            "      strength  \n",
            "0        29.89  \n",
            "1        23.51  \n",
            "2        29.22  \n",
            "3        45.85  \n",
            "4        18.29  \n",
            "5        21.86  \n",
            "6        15.75  \n",
            "7        36.64  \n",
            "8        21.65  \n",
            "9        28.99  \n",
            "10       36.35  \n",
            "11        6.94  \n",
            "12       27.92  \n",
            "13       26.26  \n",
            "14       23.89  \n",
            "15       49.97  \n",
            "16       30.08  \n",
            "17       44.86  \n",
            "18       15.04  \n",
            "19       25.10  \n",
            "20       13.36  \n",
            "21       21.92  \n",
            "22       20.42  \n",
            "23       33.30  \n",
            "24       31.74  \n",
            "25       45.30  \n",
            "26       49.19  \n",
            "27       65.20  \n",
            "28       21.54  \n",
            "29       33.80  \n",
            "...        ...  \n",
            "1000     37.96  \n",
            "1001     22.84  \n",
            "1002     38.70  \n",
            "1003     80.20  \n",
            "1004     27.22  \n",
            "1005     50.24  \n",
            "1006      8.54  \n",
            "1007     16.11  \n",
            "1008     59.30  \n",
            "1009     45.71  \n",
            "1010     12.55  \n",
            "1011     25.10  \n",
            "1012     29.39  \n",
            "1013     62.94  \n",
            "1014     26.23  \n",
            "1015     42.64  \n",
            "1016     36.44  \n",
            "1017     44.21  \n",
            "1018     19.99  \n",
            "1019     23.52  \n",
            "1020     10.79  \n",
            "1021      9.56  \n",
            "1022     13.20  \n",
            "1023     10.39  \n",
            "1024     21.91  \n",
            "1025     13.29  \n",
            "1026     41.30  \n",
            "1027     44.28  \n",
            "1028     55.06  \n",
            "1029     52.61  \n",
            "\n",
            "[1030 rows x 9 columns]>\n"
          ],
          "name": "stdout"
        }
      ]
    },
    {
      "cell_type": "code",
      "metadata": {
        "id": "DHtj9GtCE8gD",
        "colab_type": "code",
        "colab": {
          "base_uri": "https://localhost:8080/",
          "height": 656
        },
        "outputId": "1dbe31e0-a4a3-4351-bbff-5442e214afc5"
      },
      "source": [
        "X= cement.iloc[:, :8]\n",
        "y= cement.strength\n",
        "\n",
        "X = sm.add_constant(X)\n",
        "\n",
        "model = sm.OLS(y,X).fit()\n",
        "prediction = model.predict(X)\n",
        "\n",
        "model.summary() \n"
      ],
      "execution_count": 31,
      "outputs": [
        {
          "output_type": "stream",
          "text": [
            "/usr/local/lib/python3.6/dist-packages/numpy/core/fromnumeric.py:2389: FutureWarning: Method .ptp is deprecated and will be removed in a future version. Use numpy.ptp instead.\n",
            "  return ptp(axis=axis, out=out, **kwargs)\n"
          ],
          "name": "stderr"
        },
        {
          "output_type": "execute_result",
          "data": {
            "text/html": [
              "<table class=\"simpletable\">\n",
              "<caption>OLS Regression Results</caption>\n",
              "<tr>\n",
              "  <th>Dep. Variable:</th>        <td>strength</td>     <th>  R-squared:         </th> <td>   0.616</td> \n",
              "</tr>\n",
              "<tr>\n",
              "  <th>Model:</th>                   <td>OLS</td>       <th>  Adj. R-squared:    </th> <td>   0.613</td> \n",
              "</tr>\n",
              "<tr>\n",
              "  <th>Method:</th>             <td>Least Squares</td>  <th>  F-statistic:       </th> <td>   204.3</td> \n",
              "</tr>\n",
              "<tr>\n",
              "  <th>Date:</th>             <td>Wed, 08 May 2019</td> <th>  Prob (F-statistic):</th> <td>6.29e-206</td>\n",
              "</tr>\n",
              "<tr>\n",
              "  <th>Time:</th>                 <td>06:29:23</td>     <th>  Log-Likelihood:    </th> <td> -3869.0</td> \n",
              "</tr>\n",
              "<tr>\n",
              "  <th>No. Observations:</th>      <td>  1030</td>      <th>  AIC:               </th> <td>   7756.</td> \n",
              "</tr>\n",
              "<tr>\n",
              "  <th>Df Residuals:</th>          <td>  1021</td>      <th>  BIC:               </th> <td>   7800.</td> \n",
              "</tr>\n",
              "<tr>\n",
              "  <th>Df Model:</th>              <td>     8</td>      <th>                     </th>     <td> </td>    \n",
              "</tr>\n",
              "<tr>\n",
              "  <th>Covariance Type:</th>      <td>nonrobust</td>    <th>                     </th>     <td> </td>    \n",
              "</tr>\n",
              "</table>\n",
              "<table class=\"simpletable\">\n",
              "<tr>\n",
              "        <td></td>          <th>coef</th>     <th>std err</th>      <th>t</th>      <th>P>|t|</th>  <th>[0.025</th>    <th>0.975]</th>  \n",
              "</tr>\n",
              "<tr>\n",
              "  <th>const</th>        <td>  -23.3312</td> <td>   26.586</td> <td>   -0.878</td> <td> 0.380</td> <td>  -75.500</td> <td>   28.837</td>\n",
              "</tr>\n",
              "<tr>\n",
              "  <th>cement</th>       <td>    0.1198</td> <td>    0.008</td> <td>   14.113</td> <td> 0.000</td> <td>    0.103</td> <td>    0.136</td>\n",
              "</tr>\n",
              "<tr>\n",
              "  <th>slag</th>         <td>    0.1039</td> <td>    0.010</td> <td>   10.247</td> <td> 0.000</td> <td>    0.084</td> <td>    0.124</td>\n",
              "</tr>\n",
              "<tr>\n",
              "  <th>ash</th>          <td>    0.0879</td> <td>    0.013</td> <td>    6.988</td> <td> 0.000</td> <td>    0.063</td> <td>    0.113</td>\n",
              "</tr>\n",
              "<tr>\n",
              "  <th>water</th>        <td>   -0.1499</td> <td>    0.040</td> <td>   -3.731</td> <td> 0.000</td> <td>   -0.229</td> <td>   -0.071</td>\n",
              "</tr>\n",
              "<tr>\n",
              "  <th>superplastic</th> <td>    0.2922</td> <td>    0.093</td> <td>    3.128</td> <td> 0.002</td> <td>    0.109</td> <td>    0.476</td>\n",
              "</tr>\n",
              "<tr>\n",
              "  <th>coarseagg</th>    <td>    0.0181</td> <td>    0.009</td> <td>    1.926</td> <td> 0.054</td> <td>   -0.000</td> <td>    0.037</td>\n",
              "</tr>\n",
              "<tr>\n",
              "  <th>fineagg</th>      <td>    0.0202</td> <td>    0.011</td> <td>    1.887</td> <td> 0.059</td> <td>   -0.001</td> <td>    0.041</td>\n",
              "</tr>\n",
              "<tr>\n",
              "  <th>age</th>          <td>    0.1142</td> <td>    0.005</td> <td>   21.046</td> <td> 0.000</td> <td>    0.104</td> <td>    0.125</td>\n",
              "</tr>\n",
              "</table>\n",
              "<table class=\"simpletable\">\n",
              "<tr>\n",
              "  <th>Omnibus:</th>       <td> 5.378</td> <th>  Durbin-Watson:     </th> <td>   1.870</td>\n",
              "</tr>\n",
              "<tr>\n",
              "  <th>Prob(Omnibus):</th> <td> 0.068</td> <th>  Jarque-Bera (JB):  </th> <td>   5.304</td>\n",
              "</tr>\n",
              "<tr>\n",
              "  <th>Skew:</th>          <td>-0.174</td> <th>  Prob(JB):          </th> <td>  0.0705</td>\n",
              "</tr>\n",
              "<tr>\n",
              "  <th>Kurtosis:</th>      <td> 3.045</td> <th>  Cond. No.          </th> <td>1.06e+05</td>\n",
              "</tr>\n",
              "</table><br/><br/>Warnings:<br/>[1] Standard Errors assume that the covariance matrix of the errors is correctly specified.<br/>[2] The condition number is large, 1.06e+05. This might indicate that there are<br/>strong multicollinearity or other numerical problems."
            ],
            "text/plain": [
              "<class 'statsmodels.iolib.summary.Summary'>\n",
              "\"\"\"\n",
              "                            OLS Regression Results                            \n",
              "==============================================================================\n",
              "Dep. Variable:               strength   R-squared:                       0.616\n",
              "Model:                            OLS   Adj. R-squared:                  0.613\n",
              "Method:                 Least Squares   F-statistic:                     204.3\n",
              "Date:                Wed, 08 May 2019   Prob (F-statistic):          6.29e-206\n",
              "Time:                        06:29:23   Log-Likelihood:                -3869.0\n",
              "No. Observations:                1030   AIC:                             7756.\n",
              "Df Residuals:                    1021   BIC:                             7800.\n",
              "Df Model:                           8                                         \n",
              "Covariance Type:            nonrobust                                         \n",
              "================================================================================\n",
              "                   coef    std err          t      P>|t|      [0.025      0.975]\n",
              "--------------------------------------------------------------------------------\n",
              "const          -23.3312     26.586     -0.878      0.380     -75.500      28.837\n",
              "cement           0.1198      0.008     14.113      0.000       0.103       0.136\n",
              "slag             0.1039      0.010     10.247      0.000       0.084       0.124\n",
              "ash              0.0879      0.013      6.988      0.000       0.063       0.113\n",
              "water           -0.1499      0.040     -3.731      0.000      -0.229      -0.071\n",
              "superplastic     0.2922      0.093      3.128      0.002       0.109       0.476\n",
              "coarseagg        0.0181      0.009      1.926      0.054      -0.000       0.037\n",
              "fineagg          0.0202      0.011      1.887      0.059      -0.001       0.041\n",
              "age              0.1142      0.005     21.046      0.000       0.104       0.125\n",
              "==============================================================================\n",
              "Omnibus:                        5.378   Durbin-Watson:                   1.870\n",
              "Prob(Omnibus):                  0.068   Jarque-Bera (JB):                5.304\n",
              "Skew:                          -0.174   Prob(JB):                       0.0705\n",
              "Kurtosis:                       3.045   Cond. No.                     1.06e+05\n",
              "==============================================================================\n",
              "\n",
              "Warnings:\n",
              "[1] Standard Errors assume that the covariance matrix of the errors is correctly specified.\n",
              "[2] The condition number is large, 1.06e+05. This might indicate that there are\n",
              "strong multicollinearity or other numerical problems.\n",
              "\"\"\""
            ]
          },
          "metadata": {
            "tags": []
          },
          "execution_count": 31
        }
      ]
    },
    {
      "cell_type": "code",
      "metadata": {
        "id": "JCcA2DxvGPKK",
        "colab_type": "code",
        "colab": {
          "base_uri": "https://localhost:8080/",
          "height": 177
        },
        "outputId": "81bc424a-9bd9-40c9-dd9f-7dbdb05f12c7"
      },
      "source": [
        "#VIF\n",
        "\n",
        "from statsmodels.stats.outliers_influence import variance_inflation_factor\n",
        "[variance_inflation_factor(X.values,j) for j in range(0,X.shape[1])]"
      ],
      "execution_count": 33,
      "outputs": [
        {
          "output_type": "execute_result",
          "data": {
            "text/plain": [
              "[6731.81153941005,\n",
              " 7.488943791050504,\n",
              " 7.276963098742672,\n",
              " 6.170634315398794,\n",
              " 7.003956703955316,\n",
              " 2.9637757487001766,\n",
              " 5.074616997481172,\n",
              " 7.005081407516046,\n",
              " 1.1183665239005427]"
            ]
          },
          "metadata": {
            "tags": []
          },
          "execution_count": 33
        }
      ]
    },
    {
      "cell_type": "code",
      "metadata": {
        "id": "RpTn_ZJQL6gN",
        "colab_type": "code",
        "colab": {
          "base_uri": "https://localhost:8080/",
          "height": 35
        },
        "outputId": "8a356327-de77-4b1b-cddb-95d7f19f5a26"
      },
      "source": [
        "#drop\n",
        "\n",
        "xd = X.drop(['cement','water','slag','fineagg','coarseagg'],axis=1)\n",
        "\n",
        "#VIF\n",
        "\n",
        "from statsmodels.stats.outliers_influence import variance_inflation_factor\n",
        "[variance_inflation_factor(xd.values,j) for j in range(0,xd.shape[1])]"
      ],
      "execution_count": 37,
      "outputs": [
        {
          "output_type": "execute_result",
          "data": {
            "text/plain": [
              "[3.299628758243237, 1.1756798716045285, 1.1919231602686964, 1.0470144520663527]"
            ]
          },
          "metadata": {
            "tags": []
          },
          "execution_count": 37
        }
      ]
    },
    {
      "cell_type": "code",
      "metadata": {
        "id": "x2bP4V1ukDp-",
        "colab_type": "code",
        "colab": {
          "base_uri": "https://localhost:8080/",
          "height": 5652
        },
        "outputId": "f0a6e2f6-9026-428e-f114-81c779b7f9e5"
      },
      "source": [
        "wisc = pd.read_csv('wisc_bc_data.csv')\n",
        "\n",
        "print(wisc.shape)\n",
        "print(wisc.head)"
      ],
      "execution_count": 71,
      "outputs": [
        {
          "output_type": "stream",
          "text": [
            "(569, 32)\n",
            "<bound method NDFrame.head of             id diagnosis  radius_mean  texture_mean  perimeter_mean  \\\n",
            "0     87139402         B       12.320         12.39           78.85   \n",
            "1      8910251         B       10.600         18.95           69.28   \n",
            "2       905520         B       11.040         16.83           70.92   \n",
            "3       868871         B       11.280         13.39           73.00   \n",
            "4      9012568         B       15.190         13.21           97.65   \n",
            "5       906539         B       11.570         19.04           74.20   \n",
            "6       925291         B       11.510         23.93           74.52   \n",
            "7        87880         M       13.810         23.75           91.56   \n",
            "8       862989         B       10.490         19.29           67.41   \n",
            "9        89827         B       11.060         14.96           71.49   \n",
            "10       91485         M       20.590         21.24          137.80   \n",
            "11     8711003         B       12.250         17.94           78.27   \n",
            "12     9113455         B       13.140         20.74           85.98   \n",
            "13      857810         B       13.050         19.31           82.61   \n",
            "14     9111805         M       19.590         25.00          127.70   \n",
            "15      925277         B       14.590         22.68           96.39   \n",
            "16      867387         B       15.710         13.93          102.00   \n",
            "17    89511502         B       12.670         17.30           81.25   \n",
            "18    89263202         M       20.090         23.86          134.70   \n",
            "19      866714         B       12.190         13.29           79.08   \n",
            "20      874373         B       11.710         17.19           74.68   \n",
            "21      919812         B       11.690         24.44           76.37   \n",
            "22      904971         B       10.940         18.59           70.39   \n",
            "23      866458         B       15.100         16.39           99.58   \n",
            "24      864292         B       10.510         20.19           68.64   \n",
            "25      859983         M       13.800         15.79           90.43   \n",
            "26      862009         B       13.450         18.30           86.60   \n",
            "27      852973         M       15.300         25.27          102.40   \n",
            "28      898143         B        9.606         16.84           61.64   \n",
            "29     9010877         B       13.400         16.95           85.48   \n",
            "..         ...       ...          ...           ...             ...   \n",
            "539     862485         B       11.600         12.84           74.34   \n",
            "540     879830         M       17.010         20.26          109.70   \n",
            "541     917092         B        9.295         13.90           59.96   \n",
            "542    8912521         B       12.580         18.40           79.83   \n",
            "543     895100         M       20.340         21.51          135.90   \n",
            "544    8610862         M       20.180         23.97          143.70   \n",
            "545     891670         B       12.950         16.02           83.14   \n",
            "546     864726         B        8.950         15.76           58.74   \n",
            "547    9010598         B       12.760         18.84           81.87   \n",
            "548     925292         B       14.050         27.15           91.38   \n",
            "549     857155         B       12.050         14.63           78.04   \n",
            "550     905190         B       12.850         21.37           82.63   \n",
            "551     901011         B       11.140         14.07           71.24   \n",
            "552   84501001         M       12.460         24.04           83.97   \n",
            "553      91858         B       11.750         17.56           75.89   \n",
            "554    9112367         B       13.210         25.25           84.10   \n",
            "555     903516         M       21.610         22.28          144.40   \n",
            "556   88518501         B       11.500         18.45           73.28   \n",
            "557     906564         B       14.690         13.98           98.22   \n",
            "558     871641         B       11.080         14.71           70.21   \n",
            "559    9110944         B       14.800         17.66           95.88   \n",
            "560     854268         M       14.250         21.72           93.63   \n",
            "561   89511501         B       12.200         15.21           78.01   \n",
            "562    9113156         B       14.400         26.99           92.25   \n",
            "563     894855         B       12.860         13.32           82.82   \n",
            "564  911320502         B       13.170         18.22           84.28   \n",
            "565     898677         B       10.260         14.71           66.20   \n",
            "566     873885         M       15.280         22.41           98.92   \n",
            "567     911201         B       14.530         13.98           93.86   \n",
            "568    9012795         M       21.370         15.10          141.30   \n",
            "\n",
            "     area_mean  smoothness_mean  compactness_mean  concavity_mean  \\\n",
            "0        464.1          0.10280           0.06981        0.039870   \n",
            "1        346.4          0.09688           0.11470        0.063870   \n",
            "2        373.2          0.10770           0.07804        0.030460   \n",
            "3        384.8          0.11640           0.11360        0.046350   \n",
            "4        711.8          0.07963           0.06934        0.033930   \n",
            "5        409.7          0.08546           0.07722        0.054850   \n",
            "6        403.5          0.09261           0.10210        0.111200   \n",
            "7        597.8          0.13230           0.17680        0.155800   \n",
            "8        336.1          0.09989           0.08578        0.029950   \n",
            "9        373.9          0.10330           0.09097        0.053970   \n",
            "10      1320.0          0.10850           0.16440        0.218800   \n",
            "11       460.3          0.08654           0.06679        0.038850   \n",
            "12       536.9          0.08675           0.10890        0.108500   \n",
            "13       527.2          0.08060           0.03789        0.000692   \n",
            "14      1191.0          0.10320           0.09871        0.165500   \n",
            "15       657.1          0.08473           0.13300        0.102900   \n",
            "16       761.7          0.09462           0.09462        0.071350   \n",
            "17       489.9          0.10280           0.07664        0.031930   \n",
            "18      1247.0          0.10800           0.18380        0.228300   \n",
            "19       455.8          0.10660           0.09509        0.028550   \n",
            "20       420.3          0.09774           0.06141        0.038090   \n",
            "21       406.4          0.12360           0.15520        0.045150   \n",
            "22       370.0          0.10040           0.07460        0.049440   \n",
            "23       674.5          0.11500           0.18070        0.113800   \n",
            "24       334.2          0.11220           0.13030        0.064760   \n",
            "25       584.1          0.10070           0.12800        0.077890   \n",
            "26       555.1          0.10220           0.08165        0.039740   \n",
            "27       732.4          0.10820           0.16970        0.168300   \n",
            "28       280.5          0.08481           0.09228        0.084220   \n",
            "29       552.4          0.07937           0.05696        0.021810   \n",
            "..         ...              ...               ...             ...   \n",
            "539      412.6          0.08983           0.07525        0.041960   \n",
            "540      904.3          0.08772           0.07304        0.069500   \n",
            "541      257.8          0.13710           0.12250        0.033320   \n",
            "542      489.0          0.08393           0.04216        0.001860   \n",
            "543     1264.0          0.11700           0.18750        0.256500   \n",
            "544     1245.0          0.12860           0.34540        0.375400   \n",
            "545      513.7          0.10050           0.07943        0.061550   \n",
            "546      245.2          0.09462           0.12430        0.092630   \n",
            "547      496.6          0.09676           0.07952        0.026880   \n",
            "548      600.4          0.09929           0.11260        0.044620   \n",
            "549      449.3          0.10310           0.09092        0.065920   \n",
            "550      514.5          0.07551           0.08316        0.061260   \n",
            "551      384.6          0.07274           0.06064        0.045050   \n",
            "552      475.9          0.11860           0.23960        0.227300   \n",
            "553      422.9          0.10730           0.09713        0.052820   \n",
            "554      537.9          0.08791           0.05205        0.027720   \n",
            "555     1407.0          0.11670           0.20870        0.281000   \n",
            "556      407.4          0.09345           0.05991        0.026380   \n",
            "557      656.1          0.10310           0.18360        0.145000   \n",
            "558      372.7          0.10060           0.05743        0.023630   \n",
            "559      674.8          0.09179           0.08890        0.040690   \n",
            "560      633.0          0.09823           0.10980        0.131900   \n",
            "561      457.9          0.08673           0.06545        0.019940   \n",
            "562      646.1          0.06995           0.05223        0.034760   \n",
            "563      504.8          0.11340           0.08834        0.038000   \n",
            "564      537.3          0.07466           0.05994        0.048590   \n",
            "565      321.6          0.09882           0.09159        0.035810   \n",
            "566      710.6          0.09057           0.10520        0.053750   \n",
            "567      644.2          0.10990           0.09242        0.068950   \n",
            "568     1386.0          0.10010           0.15150        0.193200   \n",
            "\n",
            "     points_mean  ...  radius_worst  texture_worst  perimeter_worst  \\\n",
            "0       0.037000  ...        13.500          15.64            86.97   \n",
            "1       0.026420  ...        11.880          22.94            78.28   \n",
            "2       0.024800  ...        12.410          26.44            79.93   \n",
            "3       0.047960  ...        11.920          15.77            76.53   \n",
            "4       0.026570  ...        16.200          15.73           104.50   \n",
            "5       0.014280  ...        13.070          26.98            86.43   \n",
            "6       0.041050  ...        12.480          37.16            82.28   \n",
            "7       0.091760  ...        19.200          41.85           128.50   \n",
            "8       0.012010  ...        11.540          23.31            74.22   \n",
            "9       0.033410  ...        11.920          19.90            79.76   \n",
            "10      0.112100  ...        23.860          30.76           163.20   \n",
            "11      0.023310  ...        13.590          25.22            86.60   \n",
            "12      0.035100  ...        14.800          25.46           100.90   \n",
            "13      0.004167  ...        14.230          22.25            90.24   \n",
            "14      0.090630  ...        21.440          30.96           139.80   \n",
            "15      0.037360  ...        15.480          27.27           105.90   \n",
            "16      0.059330  ...        17.500          19.25           114.30   \n",
            "17      0.021070  ...        13.710          21.10            88.70   \n",
            "18      0.128000  ...        23.680          29.43           158.80   \n",
            "19      0.028820  ...        13.340          17.81            91.38   \n",
            "20      0.032390  ...        13.010          21.39            84.42   \n",
            "21      0.045310  ...        12.980          32.19            86.12   \n",
            "22      0.029320  ...        12.400          25.58            82.76   \n",
            "23      0.085340  ...        16.110          18.33           105.90   \n",
            "24      0.030680  ...        11.160          22.75            72.62   \n",
            "25      0.050690  ...        16.570          20.86           110.30   \n",
            "26      0.027800  ...        15.100          25.94            97.59   \n",
            "27      0.087510  ...        20.270          36.71           149.30   \n",
            "28      0.022920  ...        10.750          23.07            71.25   \n",
            "29      0.014730  ...        14.730          21.70            93.76   \n",
            "..           ...  ...           ...            ...              ...   \n",
            "539     0.033500  ...        13.060          17.16            82.96   \n",
            "540     0.053900  ...        19.800          25.05           130.00   \n",
            "541     0.024210  ...        10.570          17.84            67.84   \n",
            "542     0.002924  ...        13.500          23.08            85.56   \n",
            "543     0.150400  ...        25.300          31.86           171.10   \n",
            "544     0.160400  ...        23.370          31.72           170.30   \n",
            "545     0.033700  ...        13.740          19.93            88.81   \n",
            "546     0.023080  ...         9.414          17.07            63.34   \n",
            "547     0.017810  ...        13.750          25.99            87.82   \n",
            "548     0.043040  ...        15.300          33.17           100.20   \n",
            "549     0.027490  ...        13.760          20.70            89.88   \n",
            "550     0.018670  ...        14.400          27.01            91.63   \n",
            "551     0.014710  ...        12.120          15.82            79.62   \n",
            "552     0.085430  ...        15.090          40.68            97.65   \n",
            "553     0.044400  ...        13.500          27.98            88.52   \n",
            "554     0.020680  ...        14.350          34.23            91.29   \n",
            "555     0.156200  ...        26.230          28.74           172.00   \n",
            "556     0.020690  ...        12.970          22.46            83.12   \n",
            "557     0.063000  ...        16.460          18.34           114.10   \n",
            "558     0.025830  ...        11.350          16.82            72.01   \n",
            "559     0.022600  ...        16.430          22.74           105.90   \n",
            "560     0.055980  ...        15.890          30.36           116.20   \n",
            "561     0.016920  ...        13.750          21.38            91.11   \n",
            "562     0.017370  ...        15.400          31.98           100.40   \n",
            "563     0.034000  ...        14.040          21.08            92.80   \n",
            "564     0.028700  ...        14.900          23.89            95.10   \n",
            "565     0.020370  ...        10.880          19.48            70.89   \n",
            "566     0.032630  ...        17.800          28.03           113.80   \n",
            "567     0.064950  ...        15.800          16.93           103.10   \n",
            "568     0.125500  ...        22.690          21.84           152.10   \n",
            "\n",
            "     area_worst  smoothness_worst  compactness_worst  concavity_worst  \\\n",
            "0         549.1           0.13850            0.12660         0.124200   \n",
            "1         424.8           0.12130            0.25150         0.191600   \n",
            "2         471.4           0.13690            0.14820         0.106700   \n",
            "3         434.0           0.13670            0.18220         0.086690   \n",
            "4         819.1           0.11260            0.17370         0.136200   \n",
            "5         520.5           0.12490            0.19370         0.256000   \n",
            "6         474.2           0.12980            0.25170         0.363000   \n",
            "7        1153.0           0.22260            0.52090         0.464600   \n",
            "8         402.8           0.12190            0.14860         0.079870   \n",
            "9         440.0           0.14180            0.22100         0.229900   \n",
            "10       1760.0           0.14640            0.35970         0.517900   \n",
            "11        564.2           0.12170            0.17880         0.194300   \n",
            "12        689.1           0.13510            0.35490         0.450400   \n",
            "13        624.1           0.10210            0.06191         0.001845   \n",
            "14       1421.0           0.15280            0.18450         0.397700   \n",
            "15        733.5           0.10260            0.31710         0.366200   \n",
            "16        922.8           0.12230            0.19490         0.170900   \n",
            "17        574.4           0.13840            0.12120         0.102000   \n",
            "18       1696.0           0.13470            0.33910         0.493200   \n",
            "19        545.2           0.14270            0.25850         0.099150   \n",
            "20        521.5           0.13230            0.10400         0.152100   \n",
            "21        487.7           0.17680            0.32510         0.139500   \n",
            "22        472.4           0.13630            0.16440         0.141200   \n",
            "23        762.6           0.13860            0.28830         0.196000   \n",
            "24        374.4           0.13000            0.20490         0.129500   \n",
            "25        812.4           0.14110            0.35420         0.277900   \n",
            "26        699.4           0.13390            0.17510         0.138100   \n",
            "27       1269.0           0.16410            0.61100         0.633500   \n",
            "28        353.6           0.12330            0.34160         0.434100   \n",
            "29        663.5           0.12130            0.16760         0.136400   \n",
            "..          ...               ...                ...              ...   \n",
            "539       512.5           0.14310            0.18510         0.192200   \n",
            "540      1210.0           0.11110            0.14860         0.193200   \n",
            "541       326.6           0.18500            0.20970         0.099960   \n",
            "542       564.1           0.10380            0.06624         0.005579   \n",
            "543      1938.0           0.15920            0.44920         0.534400   \n",
            "544      1623.0           0.16390            0.61640         0.768100   \n",
            "545       585.4           0.14830            0.20680         0.224100   \n",
            "546       270.0           0.11790            0.18790         0.154400   \n",
            "547       579.7           0.12980            0.18390         0.125500   \n",
            "548       706.7           0.12410            0.22640         0.132600   \n",
            "549       582.6           0.14940            0.21560         0.305000   \n",
            "550       645.8           0.09402            0.19360         0.183800   \n",
            "551       453.5           0.08864            0.12560         0.120100   \n",
            "552       711.4           0.18530            1.05800         1.105000   \n",
            "553       552.3           0.13490            0.18540         0.136600   \n",
            "554       632.9           0.12890            0.10630         0.139000   \n",
            "555      2081.0           0.15020            0.57170         0.705300   \n",
            "556       508.9           0.11830            0.10490         0.081050   \n",
            "557       809.2           0.13120            0.36350         0.321900   \n",
            "558       396.5           0.12160            0.08240         0.039380   \n",
            "559       829.5           0.12260            0.18810         0.206000   \n",
            "560       799.6           0.14460            0.42380         0.518600   \n",
            "561       583.1           0.12560            0.19280         0.116700   \n",
            "562       734.6           0.10170            0.14600         0.147200   \n",
            "563       599.5           0.15470            0.22310         0.179100   \n",
            "564       687.6           0.12820            0.19650         0.187600   \n",
            "565       357.1           0.13600            0.16360         0.071620   \n",
            "566       973.1           0.13010            0.32990         0.363000   \n",
            "567       749.9           0.13470            0.14780         0.137300   \n",
            "568      1535.0           0.11920            0.28400         0.402400   \n",
            "\n",
            "     points_worst  symmetry_worst  dimension_worst  \n",
            "0        0.093910          0.2827          0.06771  \n",
            "1        0.079260          0.2940          0.07587  \n",
            "2        0.074310          0.2998          0.07881  \n",
            "3        0.086110          0.2102          0.06784  \n",
            "4        0.081780          0.2487          0.06766  \n",
            "5        0.066640          0.3035          0.08284  \n",
            "6        0.096530          0.2112          0.08732  \n",
            "7        0.201300          0.4432          0.10860  \n",
            "8        0.032030          0.2826          0.07552  \n",
            "9        0.107500          0.3301          0.09080  \n",
            "10       0.211300          0.2480          0.08999  \n",
            "11       0.082110          0.3113          0.08132  \n",
            "12       0.118100          0.2563          0.08174  \n",
            "13       0.011110          0.2439          0.06289  \n",
            "14       0.146600          0.2293          0.06091  \n",
            "15       0.110500          0.2258          0.08004  \n",
            "16       0.137400          0.2723          0.07071  \n",
            "17       0.056020          0.2688          0.06888  \n",
            "18       0.192300          0.3294          0.09469  \n",
            "19       0.081870          0.3469          0.09241  \n",
            "20       0.109900          0.2572          0.07097  \n",
            "21       0.130800          0.2803          0.09970  \n",
            "22       0.078870          0.2251          0.07732  \n",
            "23       0.142300          0.2590          0.07779  \n",
            "24       0.061360          0.2383          0.09026  \n",
            "25       0.138300          0.2589          0.10300  \n",
            "26       0.079110          0.2678          0.06603  \n",
            "27       0.202400          0.4027          0.09876  \n",
            "28       0.081200          0.2982          0.09825  \n",
            "29       0.069870          0.2741          0.07582  \n",
            "..            ...             ...              ...  \n",
            "539      0.084490          0.2772          0.08756  \n",
            "540      0.109600          0.3275          0.06469  \n",
            "541      0.072620          0.3681          0.08982  \n",
            "542      0.008772          0.2505          0.06431  \n",
            "543      0.268500          0.5558          0.10240  \n",
            "544      0.250800          0.5440          0.09964  \n",
            "545      0.105600          0.3380          0.09584  \n",
            "546      0.038460          0.1652          0.07722  \n",
            "547      0.083120          0.2744          0.07238  \n",
            "548      0.104800          0.2250          0.08321  \n",
            "549      0.065480          0.2747          0.08301  \n",
            "550      0.056010          0.2488          0.08151  \n",
            "551      0.039220          0.2576          0.07018  \n",
            "552      0.221000          0.4366          0.20750  \n",
            "553      0.101000          0.2478          0.07757  \n",
            "554      0.060050          0.2444          0.06788  \n",
            "555      0.242200          0.3828          0.10070  \n",
            "556      0.065440          0.2740          0.06487  \n",
            "557      0.110800          0.2827          0.09208  \n",
            "558      0.043060          0.1902          0.07313  \n",
            "559      0.083080          0.3600          0.07285  \n",
            "560      0.144700          0.3591          0.10140  \n",
            "561      0.055560          0.2661          0.07961  \n",
            "562      0.055630          0.2345          0.06464  \n",
            "563      0.115500          0.2382          0.08553  \n",
            "564      0.104500          0.2235          0.06925  \n",
            "565      0.040740          0.2434          0.08488  \n",
            "566      0.122600          0.3175          0.09772  \n",
            "567      0.106900          0.2606          0.07810  \n",
            "568      0.196600          0.2730          0.08666  \n",
            "\n",
            "[569 rows x 32 columns]>\n"
          ],
          "name": "stdout"
        }
      ]
    },
    {
      "cell_type": "code",
      "metadata": {
        "id": "qrJHiXVBrd7n",
        "colab_type": "code",
        "colab": {
          "base_uri": "https://localhost:8080/",
          "height": 375
        },
        "outputId": "9a8fe589-84b2-4afc-c6b8-535fde2edbec"
      },
      "source": [
        "\n",
        "from sklearn import datasets, linear_model\n",
        "from sklearn.linear_model import LogisticRegression\n",
        "\n",
        "wisc[\"diagnosis\"] = wisc[\"diagnosis\"].map({'B':0, 'M' : 1})\n",
        "\n",
        "X= wisc.iloc[:, 2:]\n",
        "y= wisc.diagnosis\n",
        "\n",
        "\n",
        "\n",
        "lm = LogisticRegression()\n",
        "model=lm.fit(X,y)\n",
        "\n",
        "\n",
        "predictions = model.predict(X)\n",
        "\n",
        "print(predictions) \n",
        "\n",
        "\n",
        "print('R sqare is %1.3f' %lm.score(X,y))\n",
        "\n"
      ],
      "execution_count": 72,
      "outputs": [
        {
          "output_type": "stream",
          "text": [
            "[0 0 0 0 0 0 0 1 0 0 1 0 0 0 1 0 0 0 1 0 0 0 0 0 0 0 0 1 0 0 0 0 1 0 0 0 1\n",
            " 0 1 1 1 1 0 0 0 1 0 1 0 0 0 0 0 1 1 0 0 0 1 1 1 1 1 1 1 0 0 0 0 0 0 0 0 1\n",
            " 1 0 1 0 0 1 0 0 0 0 0 0 0 1 1 0 0 0 1 0 1 1 0 0 0 1 0 0 0 1 0 0 0 0 0 0 0\n",
            " 0 1 1 0 1 1 1 1 0 0 1 0 1 0 0 1 0 1 0 1 0 0 1 0 1 0 0 1 0 1 1 1 1 1 0 1 0\n",
            " 0 0 0 0 0 0 1 0 0 1 0 0 0 0 0 0 1 1 0 1 0 0 1 1 1 0 1 0 1 0 1 0 0 1 0 1 0\n",
            " 0 1 1 1 0 1 0 0 1 1 1 1 0 0 0 0 0 1 0 0 1 0 0 0 1 0 1 1 0 0 0 0 1 1 1 0 0\n",
            " 1 0 0 0 0 1 1 0 0 0 0 1 0 0 1 0 0 0 1 0 0 1 1 0 0 1 0 0 0 1 0 1 0 0 0 0 0\n",
            " 0 0 0 1 0 1 1 0 0 0 1 0 1 0 0 1 1 0 1 0 0 1 0 0 0 1 0 1 1 1 0 0 0 1 0 1 1\n",
            " 1 1 0 1 1 0 0 1 1 1 1 0 0 0 1 1 0 0 1 0 1 1 0 0 0 1 1 0 0 1 0 1 0 1 0 0 0\n",
            " 0 1 0 0 0 1 0 0 1 1 0 1 0 0 0 1 0 0 1 0 0 1 0 0 0 1 0 1 0 0 0 0 0 1 0 0 1\n",
            " 0 0 0 0 0 0 0 0 0 0 0 0 0 1 0 0 1 0 1 0 1 0 0 1 0 0 0 0 1 0 0 0 1 1 1 1 0\n",
            " 0 1 0 0 0 0 0 0 1 0 0 1 0 0 1 0 0 0 1 0 0 0 1 1 1 0 1 0 0 1 0 0 0 0 0 1 0\n",
            " 1 0 0 0 0 1 0 1 1 0 0 0 0 1 0 0 1 1 0 0 1 0 0 1 0 0 0 0 0 1 0 1 0 1 0 1 0\n",
            " 1 1 0 0 1 0 1 0 1 1 1 1 0 0 0 0 0 1 1 1 1 1 0 0 0 0 0 1 1 0 1 1 0 1 1 1 1\n",
            " 1 0 0 0 1 0 0 0 0 1 0 0 0 0 0 1 1 0 0 0 0 0 1 0 0 1 1 0 0 0 0 0 0 0 1 0 0\n",
            " 1 0 0 0 0 1 0 0 0 0 0 1 0 1]\n",
            "R sqare is 0.960\n"
          ],
          "name": "stdout"
        },
        {
          "output_type": "stream",
          "text": [
            "/usr/local/lib/python3.6/dist-packages/sklearn/linear_model/logistic.py:433: FutureWarning: Default solver will be changed to 'lbfgs' in 0.22. Specify a solver to silence this warning.\n",
            "  FutureWarning)\n"
          ],
          "name": "stderr"
        }
      ]
    },
    {
      "cell_type": "code",
      "metadata": {
        "id": "wNOkcEZ26Xs7",
        "colab_type": "code",
        "colab": {
          "base_uri": "https://localhost:8080/",
          "height": 35
        },
        "outputId": "4cd9292d-d2cb-4da9-aed6-2934499d5d6f"
      },
      "source": [
        "from sklearn.metrics import accuracy_score, confusion_matrix, recall_score, f1_score,precision_score\n",
        "\n",
        "# Finding the accuracy\n",
        "accuracy_score(y, predictions) "
      ],
      "execution_count": 98,
      "outputs": [
        {
          "output_type": "execute_result",
          "data": {
            "text/plain": [
              "0.9595782073813708"
            ]
          },
          "metadata": {
            "tags": []
          },
          "execution_count": 98
        }
      ]
    },
    {
      "cell_type": "code",
      "metadata": {
        "id": "LYLVIAJA6qBO",
        "colab_type": "code",
        "colab": {}
      },
      "source": [
        "confusion_matrix(y, predictions) \n",
        "\n",
        "C = confusion_matrix(y, predictions) "
      ],
      "execution_count": 0,
      "outputs": []
    },
    {
      "cell_type": "code",
      "metadata": {
        "id": "MTntFEiY6-Lc",
        "colab_type": "code",
        "colab": {
          "base_uri": "https://localhost:8080/",
          "height": 35
        },
        "outputId": "39892aa7-a82a-4242-dcb3-bea5899e13b0"
      },
      "source": [
        "recall_score(y, predictions) "
      ],
      "execution_count": 78,
      "outputs": [
        {
          "output_type": "execute_result",
          "data": {
            "text/plain": [
              "0.9339622641509434"
            ]
          },
          "metadata": {
            "tags": []
          },
          "execution_count": 78
        }
      ]
    },
    {
      "cell_type": "code",
      "metadata": {
        "id": "BtHQOVJV7QX-",
        "colab_type": "code",
        "colab": {
          "base_uri": "https://localhost:8080/",
          "height": 35
        },
        "outputId": "9484affe-5d7d-4f03-fa25-f0e0151897dc"
      },
      "source": [
        "print('Mis-classification Rate : ',np.round( 1-accuracy_score(y, predictions),2))"
      ],
      "execution_count": 82,
      "outputs": [
        {
          "output_type": "stream",
          "text": [
            "Mis-classification Rate :  0.04\n"
          ],
          "name": "stdout"
        }
      ]
    },
    {
      "cell_type": "code",
      "metadata": {
        "id": "mxGnPXIj7-5E",
        "colab_type": "code",
        "colab": {
          "base_uri": "https://localhost:8080/",
          "height": 52
        },
        "outputId": "4f35fd8a-bc84-4952-bf09-49380098817f"
      },
      "source": [
        "print('Precision : ',np.round(precision_score(y, predictions)))\n",
        "precision_score(y, predictions)\n"
      ],
      "execution_count": 89,
      "outputs": [
        {
          "output_type": "stream",
          "text": [
            "Precision :  1.0\n"
          ],
          "name": "stdout"
        },
        {
          "output_type": "execute_result",
          "data": {
            "text/plain": [
              "0.9565217391304348"
            ]
          },
          "metadata": {
            "tags": []
          },
          "execution_count": 89
        }
      ]
    },
    {
      "cell_type": "code",
      "metadata": {
        "id": "4bgpaoeU8hdn",
        "colab_type": "code",
        "colab": {
          "base_uri": "https://localhost:8080/",
          "height": 35
        },
        "outputId": "87752911-0eec-43e1-bd4c-7779c2f72031"
      },
      "source": [
        "print('Recall : ',np.round(recall_score(y, predictions)))\n",
        "Recall = np.round(recall_score(y, predictions))"
      ],
      "execution_count": 91,
      "outputs": [
        {
          "output_type": "stream",
          "text": [
            "Recall :  1.0\n"
          ],
          "name": "stdout"
        }
      ]
    },
    {
      "cell_type": "code",
      "metadata": {
        "id": "e-96ac669EHk",
        "colab_type": "code",
        "colab": {
          "base_uri": "https://localhost:8080/",
          "height": 621
        },
        "outputId": "9539a906-563b-4cdb-d8c4-487f5c212d16"
      },
      "source": [
        "F1 = 2 * (predictions * Recall) / (predictions + Recall)\n",
        "F1"
      ],
      "execution_count": 93,
      "outputs": [
        {
          "output_type": "execute_result",
          "data": {
            "text/plain": [
              "array([0., 0., 0., 0., 0., 0., 0., 1., 0., 0., 1., 0., 0., 0., 1., 0., 0.,\n",
              "       0., 1., 0., 0., 0., 0., 0., 0., 0., 0., 1., 0., 0., 0., 0., 1., 0.,\n",
              "       0., 0., 1., 0., 1., 1., 1., 1., 0., 0., 0., 1., 0., 1., 0., 0., 0.,\n",
              "       0., 0., 1., 1., 0., 0., 0., 1., 1., 1., 1., 1., 1., 1., 0., 0., 0.,\n",
              "       0., 0., 0., 0., 0., 1., 1., 0., 1., 0., 0., 1., 0., 0., 0., 0., 0.,\n",
              "       0., 0., 1., 1., 0., 0., 0., 1., 0., 1., 1., 0., 0., 0., 1., 0., 0.,\n",
              "       0., 1., 0., 0., 0., 0., 0., 0., 0., 0., 1., 1., 0., 1., 1., 1., 1.,\n",
              "       0., 0., 1., 0., 1., 0., 0., 1., 0., 1., 0., 1., 0., 0., 1., 0., 1.,\n",
              "       0., 0., 1., 0., 1., 1., 1., 1., 1., 0., 1., 0., 0., 0., 0., 0., 0.,\n",
              "       0., 1., 0., 0., 1., 0., 0., 0., 0., 0., 0., 1., 1., 0., 1., 0., 0.,\n",
              "       1., 1., 1., 0., 1., 0., 1., 0., 1., 0., 0., 1., 0., 1., 0., 0., 1.,\n",
              "       1., 1., 0., 1., 0., 0., 1., 1., 1., 1., 0., 0., 0., 0., 0., 1., 0.,\n",
              "       0., 1., 0., 0., 0., 1., 0., 1., 1., 0., 0., 0., 0., 1., 1., 1., 0.,\n",
              "       0., 1., 0., 0., 0., 0., 1., 1., 0., 0., 0., 0., 1., 0., 0., 1., 0.,\n",
              "       0., 0., 1., 0., 0., 1., 1., 0., 0., 1., 0., 0., 0., 1., 0., 1., 0.,\n",
              "       0., 0., 0., 0., 0., 0., 0., 1., 0., 1., 1., 0., 0., 0., 1., 0., 1.,\n",
              "       0., 0., 1., 1., 0., 1., 0., 0., 1., 0., 0., 0., 1., 0., 1., 1., 1.,\n",
              "       0., 0., 0., 1., 0., 1., 1., 1., 1., 0., 1., 1., 0., 0., 1., 1., 1.,\n",
              "       1., 0., 0., 0., 1., 1., 0., 0., 1., 0., 1., 1., 0., 0., 0., 1., 1.,\n",
              "       0., 0., 1., 0., 1., 0., 1., 0., 0., 0., 0., 1., 0., 0., 0., 1., 0.,\n",
              "       0., 1., 1., 0., 1., 0., 0., 0., 1., 0., 0., 1., 0., 0., 1., 0., 0.,\n",
              "       0., 1., 0., 1., 0., 0., 0., 0., 0., 1., 0., 0., 1., 0., 0., 0., 0.,\n",
              "       0., 0., 0., 0., 0., 0., 0., 0., 0., 1., 0., 0., 1., 0., 1., 0., 1.,\n",
              "       0., 0., 1., 0., 0., 0., 0., 1., 0., 0., 0., 1., 1., 1., 1., 0., 0.,\n",
              "       1., 0., 0., 0., 0., 0., 0., 1., 0., 0., 1., 0., 0., 1., 0., 0., 0.,\n",
              "       1., 0., 0., 0., 1., 1., 1., 0., 1., 0., 0., 1., 0., 0., 0., 0., 0.,\n",
              "       1., 0., 1., 0., 0., 0., 0., 1., 0., 1., 1., 0., 0., 0., 0., 1., 0.,\n",
              "       0., 1., 1., 0., 0., 1., 0., 0., 1., 0., 0., 0., 0., 0., 1., 0., 1.,\n",
              "       0., 1., 0., 1., 0., 1., 1., 0., 0., 1., 0., 1., 0., 1., 1., 1., 1.,\n",
              "       0., 0., 0., 0., 0., 1., 1., 1., 1., 1., 0., 0., 0., 0., 0., 1., 1.,\n",
              "       0., 1., 1., 0., 1., 1., 1., 1., 1., 0., 0., 0., 1., 0., 0., 0., 0.,\n",
              "       1., 0., 0., 0., 0., 0., 1., 1., 0., 0., 0., 0., 0., 1., 0., 0., 1.,\n",
              "       1., 0., 0., 0., 0., 0., 0., 0., 1., 0., 0., 1., 0., 0., 0., 0., 1.,\n",
              "       0., 0., 0., 0., 0., 1., 0., 1.])"
            ]
          },
          "metadata": {
            "tags": []
          },
          "execution_count": 93
        }
      ]
    },
    {
      "cell_type": "code",
      "metadata": {
        "id": "5mZ_XZmp95rt",
        "colab_type": "code",
        "colab": {
          "base_uri": "https://localhost:8080/",
          "height": 35
        },
        "outputId": "982a4815-1936-411b-cef6-df979738ec33"
      },
      "source": [
        "f1_score(y, predictions)"
      ],
      "execution_count": 95,
      "outputs": [
        {
          "output_type": "execute_result",
          "data": {
            "text/plain": [
              "0.9451073985680192"
            ]
          },
          "metadata": {
            "tags": []
          },
          "execution_count": 95
        }
      ]
    },
    {
      "cell_type": "code",
      "metadata": {
        "id": "36FGt6eQAfhg",
        "colab_type": "code",
        "colab": {
          "base_uri": "https://localhost:8080/",
          "height": 35
        },
        "outputId": "062e3873-f20f-4bc9-b2e5-73972e49ab92"
      },
      "source": [
        "FP = C.sum(axis=0) - np.diag(C)  \n",
        "FN = C.sum(axis=1) - np.diag(C)\n",
        "TP = np.diag(C)\n",
        "TN = C.sum() - (FP + FN + TP)\n",
        "Sen = TP/(TP+FN)\n",
        "Sen"
      ],
      "execution_count": 106,
      "outputs": [
        {
          "output_type": "execute_result",
          "data": {
            "text/plain": [
              "array([0.97478992, 0.93396226])"
            ]
          },
          "metadata": {
            "tags": []
          },
          "execution_count": 106
        }
      ]
    },
    {
      "cell_type": "code",
      "metadata": {
        "id": "MBWKVG49PxN4",
        "colab_type": "code",
        "colab": {}
      },
      "source": [
        "loans_imputed.csv"
      ],
      "execution_count": 0,
      "outputs": []
    },
    {
      "cell_type": "code",
      "metadata": {
        "id": "foWu3S5WDimX",
        "colab_type": "code",
        "colab": {
          "base_uri": "https://localhost:8080/",
          "height": 35
        },
        "outputId": "a4dc4a61-a7e6-4b4d-f5cf-7ee75046d90c"
      },
      "source": [
        "#  Specificity or true negative rate\n",
        "spe = TN/(TN+FP)\n",
        "spe"
      ],
      "execution_count": 109,
      "outputs": [
        {
          "output_type": "execute_result",
          "data": {
            "text/plain": [
              "array([0.93396226, 0.97478992])"
            ]
          },
          "metadata": {
            "tags": []
          },
          "execution_count": 109
        }
      ]
    },
    {
      "cell_type": "code",
      "metadata": {
        "id": "522u7vZ7EphI",
        "colab_type": "code",
        "colab": {
          "base_uri": "https://localhost:8080/",
          "height": 132
        },
        "outputId": "6c9d87c2-4a1d-48d5-e04b-93de74829fda"
      },
      "source": [
        "sensitivity1 = [confusion_matrix[0,0]/(confusion_matrix[0,0]+confusion_matrix[0,1])]\n",
        "print('Sensitivity : ', sensitivity1 )\n"
      ],
      "execution_count": 116,
      "outputs": [
        {
          "output_type": "error",
          "ename": "SyntaxError",
          "evalue": "ignored",
          "traceback": [
            "\u001b[0;36m  File \u001b[0;32m\"<ipython-input-116-61d44ecd6249>\"\u001b[0;36m, line \u001b[0;32m1\u001b[0m\n\u001b[0;31m    sensitivity1 = [confusion_matrix[0,0]/(confusion_matrix[0,0]+confusion_matrix[0,1])]\u001b[0m\n\u001b[0m                ^\u001b[0m\n\u001b[0;31mSyntaxError\u001b[0m\u001b[0;31m:\u001b[0m invalid character in identifier\n"
          ]
        }
      ]
    },
    {
      "cell_type": "code",
      "metadata": {
        "id": "RrP4BfohP9rt",
        "colab_type": "code",
        "colab": {
          "resources": {
            "http://localhost:8080/nbextensions/google.colab/files.js": {
              "data": "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",
              "ok": true,
              "headers": [
                [
                  "content-type",
                  "application/javascript"
                ]
              ],
              "status": 200,
              "status_text": ""
            }
          },
          "base_uri": "https://localhost:8080/",
          "height": 75
        },
        "outputId": "fae597fd-2606-4859-e91d-020a2f060314"
      },
      "source": [
        "from google.colab import files\n",
        "uploaded = files.upload()"
      ],
      "execution_count": 117,
      "outputs": [
        {
          "output_type": "display_data",
          "data": {
            "text/html": [
              "\n",
              "     <input type=\"file\" id=\"files-b12017ec-5084-4b88-9784-827dc3788681\" name=\"files[]\" multiple disabled />\n",
              "     <output id=\"result-b12017ec-5084-4b88-9784-827dc3788681\">\n",
              "      Upload widget is only available when the cell has been executed in the\n",
              "      current browser session. Please rerun this cell to enable.\n",
              "      </output>\n",
              "      <script src=\"/nbextensions/google.colab/files.js\"></script> "
            ],
            "text/plain": [
              "<IPython.core.display.HTML object>"
            ]
          },
          "metadata": {
            "tags": []
          }
        },
        {
          "output_type": "stream",
          "text": [
            "Saving loans_imputed.csv to loans_imputed.csv\n"
          ],
          "name": "stdout"
        }
      ]
    },
    {
      "cell_type": "code",
      "metadata": {
        "id": "QQoQKNfBQI5B",
        "colab_type": "code",
        "colab": {
          "base_uri": "https://localhost:8080/",
          "height": 3412
        },
        "outputId": "71af431a-9a00-487d-a72a-f04915233e24"
      },
      "source": [
        "loan = pd.read_csv('loans_imputed.csv')\n",
        "\n",
        "print(loan.shape)\n",
        "print(loan.head)\n"
      ],
      "execution_count": 119,
      "outputs": [
        {
          "output_type": "stream",
          "text": [
            "(9578, 14)\n",
            "<bound method NDFrame.head of       credit.policy             purpose  int.rate  installment  \\\n",
            "0                 1  debt_consolidation    0.1189       829.10   \n",
            "1                 1         credit_card    0.1071       228.22   \n",
            "2                 1  debt_consolidation    0.1357       366.86   \n",
            "3                 1  debt_consolidation    0.1008       162.34   \n",
            "4                 1         credit_card    0.1426       102.92   \n",
            "5                 1         credit_card    0.0788       125.13   \n",
            "6                 1  debt_consolidation    0.1496       194.02   \n",
            "7                 1           all_other    0.1114       131.22   \n",
            "8                 1    home_improvement    0.1134        87.19   \n",
            "9                 1  debt_consolidation    0.1221        84.12   \n",
            "10                1  debt_consolidation    0.1347       360.43   \n",
            "11                1  debt_consolidation    0.1324       253.58   \n",
            "12                1  debt_consolidation    0.0859       316.11   \n",
            "13                1      small_business    0.0714        92.82   \n",
            "14                1  debt_consolidation    0.0863       209.54   \n",
            "15                1      major_purchase    0.1103       327.53   \n",
            "16                1           all_other    0.1317        77.69   \n",
            "17                1         credit_card    0.0894       476.58   \n",
            "18                1  debt_consolidation    0.1039       584.12   \n",
            "19                1      major_purchase    0.1513       173.65   \n",
            "20                1           all_other    0.0800       188.02   \n",
            "21                1           all_other    0.0863       474.42   \n",
            "22                1         credit_card    0.1355       339.60   \n",
            "23                1         credit_card    0.0788       484.85   \n",
            "24                1  debt_consolidation    0.1229       320.19   \n",
            "25                1           all_other    0.0901       159.03   \n",
            "26                1           all_other    0.0743       155.38   \n",
            "27                1  debt_consolidation    0.1375       255.43   \n",
            "28                1           all_other    0.0743       155.38   \n",
            "29                1           all_other    0.0743       155.38   \n",
            "...             ...                 ...       ...          ...   \n",
            "9548              0    home_improvement    0.1607        87.99   \n",
            "9549              0    home_improvement    0.2164       729.70   \n",
            "9550              0           all_other    0.1459       137.86   \n",
            "9551              0    home_improvement    0.1348       508.87   \n",
            "9552              0  debt_consolidation    0.1311       337.45   \n",
            "9553              0  debt_consolidation    0.1385       545.67   \n",
            "9554              0      small_business    0.1533       870.71   \n",
            "9555              0    home_improvement    0.1311       674.90   \n",
            "9556              0  debt_consolidation    0.1385       136.42   \n",
            "9557              0         credit_card    0.1025       466.35   \n",
            "9558              0  debt_consolidation    0.1533       696.57   \n",
            "9559              0         credit_card    0.1273       688.11   \n",
            "9560              0           all_other    0.1867       547.36   \n",
            "9561              0           all_other    0.0788       115.74   \n",
            "9562              0  debt_consolidation    0.1348       508.87   \n",
            "9563              0  debt_consolidation    0.1099       556.50   \n",
            "9564              0           all_other    0.1385       511.56   \n",
            "9565              0           all_other    0.1459       396.35   \n",
            "9566              0           all_other    0.2164       551.08   \n",
            "9567              0           all_other    0.1311       101.24   \n",
            "9568              0           all_other    0.1979        37.06   \n",
            "9569              0    home_improvement    0.1426       823.34   \n",
            "9570              0           all_other    0.1671       113.63   \n",
            "9571              0           all_other    0.1568       161.01   \n",
            "9572              0  debt_consolidation    0.1565        69.98   \n",
            "9573              0           all_other    0.1461       344.76   \n",
            "9574              0           all_other    0.1253       257.70   \n",
            "9575              0  debt_consolidation    0.1071        97.81   \n",
            "9576              0    home_improvement    0.1600       351.58   \n",
            "9577              0  debt_consolidation    0.1392       853.43   \n",
            "\n",
            "      log.annual.inc    dti  fico  days.with.cr.line  revol.bal  revol.util  \\\n",
            "0          11.350407  19.48   737        5639.958333      28854        52.1   \n",
            "1          11.082143  14.29   707        2760.000000      33623        76.7   \n",
            "2          10.373491  11.63   682        4710.000000       3511        25.6   \n",
            "3          11.350407   8.10   712        2699.958333      33667        73.2   \n",
            "4          11.299732  14.97   667        4066.000000       4740        39.5   \n",
            "5          11.904968  16.98   727        6120.041667      50807        51.0   \n",
            "6          10.714418   4.00   667        3180.041667       3839        76.8   \n",
            "7          11.002100  11.08   722        5116.000000      24220        68.6   \n",
            "8          11.407565  17.25   682        3989.000000      69909        51.1   \n",
            "9          10.203592  10.00   707        2730.041667       5630        23.0   \n",
            "10         10.434116  22.09   677        6713.041667      13846        71.0   \n",
            "11         11.835009   9.16   662        4298.000000       5122        18.2   \n",
            "12         10.933107  15.49   767        6519.958333       6068        16.7   \n",
            "13         11.512925   6.50   747        4384.000000       3021         4.8   \n",
            "14          9.487972   9.73   727        1559.958333       6282        44.6   \n",
            "15         10.738915  13.04   702        8159.958333       5394        53.4   \n",
            "16         10.522773   2.26   672        3895.958333       2211        88.4   \n",
            "17         11.608236   7.07   797        6510.958333       7586        52.7   \n",
            "18         10.491274   3.80   712        2760.000000       8311        59.8   \n",
            "19         11.002100   2.74   667        1126.958333        591        84.4   \n",
            "20         11.225243  16.08   772        4888.958333      29797        23.2   \n",
            "21         10.819778   2.59   797       11951.000000       5656        27.6   \n",
            "22         11.512925   7.94   662        1939.958333      21162        57.7   \n",
            "23         11.736069   7.05   782        5640.041667      16931        34.6   \n",
            "24         11.264464   8.80   672        3760.958333       4822        58.1   \n",
            "25         12.429216  10.00   712        1553.958333      14354        36.6   \n",
            "26         11.082143   0.28   802        4649.958333       1576         5.7   \n",
            "27          9.998798  14.29   662        1318.958333       4175        51.5   \n",
            "28         12.206073   0.28   772        4516.958333       3164        13.7   \n",
            "29         12.206073   3.72   812        6778.958333      85607         0.7   \n",
            "...              ...    ...   ...                ...        ...         ...   \n",
            "9548       10.778956  14.20   667        4080.000000       1530        36.4   \n",
            "9549       11.877569   8.63   667        8280.041667      55442        66.9   \n",
            "9550       10.085809   1.15   732        1230.041667        972        11.3   \n",
            "9551       11.736069  16.85   707        7440.041667     206877        92.5   \n",
            "9552       10.691945  23.62   702        3780.041667       6255        56.9   \n",
            "9553       11.775290  10.80   697        4110.000000     197716        74.9   \n",
            "9554       11.842229  16.16   707        4230.041667      56909        49.8   \n",
            "9555       12.292250   9.94   717        5730.041667      39576        27.7   \n",
            "9556       11.002100  18.18   677        3423.041667      15301        85.0   \n",
            "9557       12.206073  13.97   722        6120.041667     338935        78.3   \n",
            "9558       11.805595  17.21   682        2790.041667      38578        86.9   \n",
            "9559       11.314475  21.13   732        5881.000000      35227        54.3   \n",
            "9560       11.407565  15.76   667       10050.041670      13255        88.4   \n",
            "9561       10.999095  10.17   722        4410.000000      11586        61.6   \n",
            "9562       10.933107  17.76   717        3870.041667       8760        28.2   \n",
            "9563       11.225243  17.84   727        6840.041667      18753        29.0   \n",
            "9564       12.323856  12.33   687        6420.041667     385489        51.2   \n",
            "9565       10.308953  21.04   697        3390.000000      26117        78.4   \n",
            "9566       11.002100  24.06   662        1800.000000      16441        49.8   \n",
            "9567       10.968198   8.23   687        2790.041667       1514        13.8   \n",
            "9568       10.645425  22.17   667        5916.000000      28854        59.8   \n",
            "9569       12.429216   3.62   722        3239.958333      33575        83.9   \n",
            "9570       10.645425  28.06   672        3210.041667      25759        63.8   \n",
            "9571       11.225243   8.00   677        7230.000000       6909        29.2   \n",
            "9572       10.110472   7.02   662        8190.041667       2999        39.5   \n",
            "9573       12.180755  10.39   672       10474.000000     215372        82.1   \n",
            "9574       11.141862   0.21   722        4380.000000        184         1.1   \n",
            "9575       10.596635  13.09   687        3450.041667      10036        82.9   \n",
            "9576       10.819778  19.18   692        1800.000000          0         3.2   \n",
            "9577       11.264464  16.28   732        4740.000000      37879        57.0   \n",
            "\n",
            "      inq.last.6mths  delinq.2yrs  pub.rec  not.fully.paid  \n",
            "0                  0            0        0               0  \n",
            "1                  0            0        0               0  \n",
            "2                  1            0        0               0  \n",
            "3                  1            0        0               0  \n",
            "4                  0            1        0               0  \n",
            "5                  0            0        0               0  \n",
            "6                  0            0        1               1  \n",
            "7                  0            0        0               1  \n",
            "8                  1            0        0               0  \n",
            "9                  1            0        0               0  \n",
            "10                 2            0        1               0  \n",
            "11                 2            1        0               0  \n",
            "12                 0            0        0               0  \n",
            "13                 0            1        0               0  \n",
            "14                 0            0        0               0  \n",
            "15                 1            0        0               0  \n",
            "16                 0            0        0               0  \n",
            "17                 1            0        0               0  \n",
            "18                 0            0        0               0  \n",
            "19                 3            0        0               0  \n",
            "20                 1            0        0               0  \n",
            "21                 0            0        0               0  \n",
            "22                 0            0        0               0  \n",
            "23                 1            0        0               0  \n",
            "24                 0            0        1               0  \n",
            "25                 0            2        0               0  \n",
            "26                 1            0        0               0  \n",
            "27                 0            1        0               0  \n",
            "28                 0            0        0               0  \n",
            "29                 0            0        0               0  \n",
            "...              ...          ...      ...             ...  \n",
            "9548               7            0        0               1  \n",
            "9549               9            0        1               1  \n",
            "9550               5            0        0               0  \n",
            "9551               1            0        0               1  \n",
            "9552               5            2        0               0  \n",
            "9553               4            0        0               0  \n",
            "9554               5            0        0               0  \n",
            "9555               5            0        0               1  \n",
            "9556               4            0        0               0  \n",
            "9557               2            0        0               0  \n",
            "9558               4            0        0               0  \n",
            "9559               5            0        0               0  \n",
            "9560               7            0        0               0  \n",
            "9561               4            0        0               0  \n",
            "9562               6            0        0               0  \n",
            "9563               4            0        0               1  \n",
            "9564               4            0        0               0  \n",
            "9565               6            0        0               1  \n",
            "9566               9            0        0               1  \n",
            "9567               5            0        0               0  \n",
            "9568               6            0        1               0  \n",
            "9569               5            0        0               1  \n",
            "9570               5            0        0               1  \n",
            "9571               4            0        1               1  \n",
            "9572               6            0        0               1  \n",
            "9573               2            0        0               1  \n",
            "9574               5            0        0               1  \n",
            "9575               8            0        0               1  \n",
            "9576               5            0        0               1  \n",
            "9577               6            0        0               1  \n",
            "\n",
            "[9578 rows x 14 columns]>\n"
          ],
          "name": "stdout"
        }
      ]
    },
    {
      "cell_type": "code",
      "metadata": {
        "id": "TYWyWOr-RGOL",
        "colab_type": "code",
        "colab": {
          "base_uri": "https://localhost:8080/",
          "height": 90
        },
        "outputId": "f09b07ea-02e5-431d-8a8f-2af0da94cf20"
      },
      "source": [
        "from sklearn import datasets, linear_model\n",
        "from sklearn.linear_model import LogisticRegression\n",
        "\n",
        "# loan[\"debt_consolidation\"] = loan[\"debt_consolidation\"].map({'B':0, 'M' : 1})\n",
        "\n",
        "X= loan.iloc[:, 2:]\n",
        "y= loan['credit.policy']\n",
        "\n",
        "\n",
        "lm = LogisticRegression()\n",
        "model=lm.fit(X,y)\n",
        "\n",
        "\n",
        "predictions = model.predict(X)\n",
        "\n",
        "print(predictions) "
      ],
      "execution_count": 125,
      "outputs": [
        {
          "output_type": "stream",
          "text": [
            "[1 1 1 ... 0 0 0]\n"
          ],
          "name": "stdout"
        },
        {
          "output_type": "stream",
          "text": [
            "/usr/local/lib/python3.6/dist-packages/sklearn/linear_model/logistic.py:433: FutureWarning: Default solver will be changed to 'lbfgs' in 0.22. Specify a solver to silence this warning.\n",
            "  FutureWarning)\n"
          ],
          "name": "stderr"
        }
      ]
    },
    {
      "cell_type": "code",
      "metadata": {
        "id": "0JjP4YMlTJZZ",
        "colab_type": "code",
        "colab": {
          "base_uri": "https://localhost:8080/",
          "height": 35
        },
        "outputId": "ba1518d3-d3ca-46e0-f00f-84477c4963cc"
      },
      "source": [
        "from sklearn.metrics import accuracy_score, confusion_matrix, recall_score, f1_score,precision_score\n",
        "\n",
        "# Finding the accuracy\n",
        "acc=accuracy_score(y, predictions)\n",
        "acc\n"
      ],
      "execution_count": 129,
      "outputs": [
        {
          "output_type": "execute_result",
          "data": {
            "text/plain": [
              "0.8983086239298392"
            ]
          },
          "metadata": {
            "tags": []
          },
          "execution_count": 129
        }
      ]
    },
    {
      "cell_type": "code",
      "metadata": {
        "id": "Gkvb8CiiThHq",
        "colab_type": "code",
        "colab": {
          "base_uri": "https://localhost:8080/",
          "height": 52
        },
        "outputId": "f1b03ffa-0222-4044-9f92-3011b3f5a73d"
      },
      "source": [
        "con=confusion_matrix(y, predictions) \n",
        "con\n"
      ],
      "execution_count": 130,
      "outputs": [
        {
          "output_type": "execute_result",
          "data": {
            "text/plain": [
              "array([[1110,  758],\n",
              "       [ 216, 7494]])"
            ]
          },
          "metadata": {
            "tags": []
          },
          "execution_count": 130
        }
      ]
    },
    {
      "cell_type": "code",
      "metadata": {
        "id": "e9zDiAzbTjtz",
        "colab_type": "code",
        "colab": {
          "base_uri": "https://localhost:8080/",
          "height": 35
        },
        "outputId": "1de9795d-c660-4e3a-c2b5-a52db674ef10"
      },
      "source": [
        "recall_score(y, predictions) \n"
      ],
      "execution_count": 131,
      "outputs": [
        {
          "output_type": "execute_result",
          "data": {
            "text/plain": [
              "0.9719844357976654"
            ]
          },
          "metadata": {
            "tags": []
          },
          "execution_count": 131
        }
      ]
    },
    {
      "cell_type": "code",
      "metadata": {
        "id": "mZ4S8QEOTntg",
        "colab_type": "code",
        "colab": {
          "base_uri": "https://localhost:8080/",
          "height": 35
        },
        "outputId": "5572a53e-d730-42bb-adb5-f09c2284086c"
      },
      "source": [
        "f1_score(y, predictions) \n"
      ],
      "execution_count": 132,
      "outputs": [
        {
          "output_type": "execute_result",
          "data": {
            "text/plain": [
              "0.9389800776845006"
            ]
          },
          "metadata": {
            "tags": []
          },
          "execution_count": 132
        }
      ]
    },
    {
      "cell_type": "code",
      "metadata": {
        "id": "aKFlRZKDTpxU",
        "colab_type": "code",
        "colab": {
          "base_uri": "https://localhost:8080/",
          "height": 35
        },
        "outputId": "07999781-83e0-46a0-e770-141c94d35c70"
      },
      "source": [
        "precision_score(y, predictions) "
      ],
      "execution_count": 133,
      "outputs": [
        {
          "output_type": "execute_result",
          "data": {
            "text/plain": [
              "0.9081434803683955"
            ]
          },
          "metadata": {
            "tags": []
          },
          "execution_count": 133
        }
      ]
    },
    {
      "cell_type": "code",
      "metadata": {
        "id": "hPFKJTqeUiFW",
        "colab_type": "code",
        "colab": {
          "base_uri": "https://localhost:8080/",
          "height": 238
        },
        "outputId": "70ff9e77-f957-47f9-abac-8079edecf3ca"
      },
      "source": [
        "sen = ((confusion_matrix[0,0])/(confusion_matrix[0,0]+confusion_matrix[0,1]))\n",
        "print('Sensitivity : ',sen)\n",
        "\n",
        "specificity1=(confusion_matrix[1,1])/(confusion_matrix[1,0]+confusion_matrix[1,1])\n",
        "print('Specificity : ',specificity1) "
      ],
      "execution_count": 146,
      "outputs": [
        {
          "output_type": "error",
          "ename": "TypeError",
          "evalue": "ignored",
          "traceback": [
            "\u001b[0;31m---------------------------------------------------------------------------\u001b[0m",
            "\u001b[0;31mTypeError\u001b[0m                                 Traceback (most recent call last)",
            "\u001b[0;32m<ipython-input-146-7b9822f62f30>\u001b[0m in \u001b[0;36m<module>\u001b[0;34m()\u001b[0m\n\u001b[0;32m----> 1\u001b[0;31m \u001b[0msen\u001b[0m \u001b[0;34m=\u001b[0m \u001b[0;34m(\u001b[0m\u001b[0;34m(\u001b[0m\u001b[0mconfusion_matrix\u001b[0m\u001b[0;34m[\u001b[0m\u001b[0;36m0\u001b[0m\u001b[0;34m,\u001b[0m\u001b[0;36m0\u001b[0m\u001b[0;34m]\u001b[0m\u001b[0;34m)\u001b[0m\u001b[0;34m/\u001b[0m\u001b[0;34m(\u001b[0m\u001b[0mconfusion_matrix\u001b[0m\u001b[0;34m[\u001b[0m\u001b[0;36m0\u001b[0m\u001b[0;34m,\u001b[0m\u001b[0;36m0\u001b[0m\u001b[0;34m]\u001b[0m\u001b[0;34m+\u001b[0m\u001b[0mconfusion_matrix\u001b[0m\u001b[0;34m[\u001b[0m\u001b[0;36m0\u001b[0m\u001b[0;34m,\u001b[0m\u001b[0;36m1\u001b[0m\u001b[0;34m]\u001b[0m\u001b[0;34m)\u001b[0m\u001b[0;34m)\u001b[0m\u001b[0;34m\u001b[0m\u001b[0;34m\u001b[0m\u001b[0m\n\u001b[0m\u001b[1;32m      2\u001b[0m \u001b[0mprint\u001b[0m\u001b[0;34m(\u001b[0m\u001b[0;34m'Sensitivity : '\u001b[0m\u001b[0;34m,\u001b[0m\u001b[0msen\u001b[0m\u001b[0;34m)\u001b[0m\u001b[0;34m\u001b[0m\u001b[0;34m\u001b[0m\u001b[0m\n\u001b[1;32m      3\u001b[0m \u001b[0;34m\u001b[0m\u001b[0m\n\u001b[1;32m      4\u001b[0m \u001b[0mspecificity1\u001b[0m\u001b[0;34m=\u001b[0m\u001b[0;34m(\u001b[0m\u001b[0mconfusion_matrix\u001b[0m\u001b[0;34m[\u001b[0m\u001b[0;36m1\u001b[0m\u001b[0;34m,\u001b[0m\u001b[0;36m1\u001b[0m\u001b[0;34m]\u001b[0m\u001b[0;34m)\u001b[0m\u001b[0;34m/\u001b[0m\u001b[0;34m(\u001b[0m\u001b[0mconfusion_matrix\u001b[0m\u001b[0;34m[\u001b[0m\u001b[0;36m1\u001b[0m\u001b[0;34m,\u001b[0m\u001b[0;36m0\u001b[0m\u001b[0;34m]\u001b[0m\u001b[0;34m+\u001b[0m\u001b[0mconfusion_matrix\u001b[0m\u001b[0;34m[\u001b[0m\u001b[0;36m1\u001b[0m\u001b[0;34m,\u001b[0m\u001b[0;36m1\u001b[0m\u001b[0;34m]\u001b[0m\u001b[0;34m)\u001b[0m\u001b[0;34m\u001b[0m\u001b[0;34m\u001b[0m\u001b[0m\n\u001b[1;32m      5\u001b[0m \u001b[0mprint\u001b[0m\u001b[0;34m(\u001b[0m\u001b[0;34m'Specificity : '\u001b[0m\u001b[0;34m,\u001b[0m\u001b[0mspecificity1\u001b[0m\u001b[0;34m)\u001b[0m\u001b[0;34m\u001b[0m\u001b[0;34m\u001b[0m\u001b[0m\n",
            "\u001b[0;31mTypeError\u001b[0m: 'function' object is not subscriptable"
          ]
        }
      ]
    }
  ]
}